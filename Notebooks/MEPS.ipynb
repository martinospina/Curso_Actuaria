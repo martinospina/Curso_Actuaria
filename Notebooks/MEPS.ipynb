{
  "nbformat": 4,
  "nbformat_minor": 0,
  "metadata": {
    "colab": {
      "provenance": []
    },
    "kernelspec": {
      "name": "ir",
      "display_name": "R"
    },
    "language_info": {
      "name": "R"
    }
  },
  "cells": [
    {
      "cell_type": "markdown",
      "source": [
        "# Abstract\n",
        "\n",
        "The purpose of this notebook is to allow users to become familiar with model fitting in a Google colaboratory (colab) environment using Jupyter notebooks. The programming code is R, not Python. For additional resources:\n",
        "\n",
        "*   [Introduction to Google Colab](https://www.tutorialspoint.com/google_colab/index.htm), website\n",
        "*   [Introduction to Jupyter Notebooks.ipynb](https://github.com/OpenActTextDev/ActuarialRegression/blob/main/Notebooks/Introduction%20to%20Jupyter%20Notebooks.ipynb), Jupyter notebook available from the course Github repository (repo).\n",
        "\n",
        "\n",
        "<table align=\"left\">\n",
        "  <td>\n",
        "    <a href=\"https://colab.research.google.com/github/OpenActTextDev/ActuarialRegression/blob/main/Notebooks/MEPS.ipynb\" target=\"_parent\"><img src=\"https://colab.research.google.com/assets/colab-badge.svg\" alt=\"Open In Colab\"/></a>\n",
        "  </td>\n",
        "</table>\n",
        "\n",
        "\n",
        "\n"
      ],
      "metadata": {
        "id": "LX_xshTR5dQL"
      }
    },
    {
      "cell_type": "markdown",
      "source": [
        "#  Getting Started\n",
        "\n",
        "Start by going to \"Runtime\", select \"Change Runtime Type\", ensure that \"R\" is selected, and click \"Save\".\n",
        "\n",
        "Next, run the following two boxes. The first checks that we can do basic calculations. The second is an \"R\" command (generate 10 standard normal random variates), to make sure that \"R\" is working. Then, try changing the numbers so you can convince yourself that this is an interactive environment."
      ],
      "metadata": {
        "id": "aEwkH6hekFwy"
      }
    },
    {
      "cell_type": "code",
      "source": [
        "1 + 4"
      ],
      "metadata": {
        "colab": {
          "base_uri": "https://localhost:8080/",
          "height": 34
        },
        "id": "-AY0xDhI5jTG",
        "outputId": "bba51fc6-acb5-4feb-a0ea-949dc4a1a08d"
      },
      "execution_count": null,
      "outputs": [
        {
          "output_type": "display_data",
          "data": {
            "text/html": [
              "5"
            ],
            "text/markdown": "5",
            "text/latex": "5",
            "text/plain": [
              "[1] 5"
            ]
          },
          "metadata": {}
        }
      ]
    },
    {
      "cell_type": "code",
      "source": [
        "rnorm(10)"
      ],
      "metadata": {
        "colab": {
          "base_uri": "https://localhost:8080/",
          "height": 52
        },
        "id": "ECDLZ0DoDjBk",
        "outputId": "79e86812-0e17-4a9f-d458-438cee7c8ae8"
      },
      "execution_count": null,
      "outputs": [
        {
          "output_type": "display_data",
          "data": {
            "text/html": [
              "<style>\n",
              ".list-inline {list-style: none; margin:0; padding: 0}\n",
              ".list-inline>li {display: inline-block}\n",
              ".list-inline>li:not(:last-child)::after {content: \"\\00b7\"; padding: 0 .5ex}\n",
              "</style>\n",
              "<ol class=list-inline><li>-0.0623772290918319</li><li>0.0158613652536417</li><li>-0.413801863147226</li><li>1.81900078272142</li><li>-0.131865200416971</li><li>0.121567461172143</li><li>0.783977542758009</li><li>-0.736947615085381</li><li>0.221391653558041</li><li>-0.621070845297785</li></ol>\n"
            ],
            "text/markdown": "1. -0.0623772290918319\n2. 0.0158613652536417\n3. -0.413801863147226\n4. 1.81900078272142\n5. -0.131865200416971\n6. 0.121567461172143\n7. 0.783977542758009\n8. -0.736947615085381\n9. 0.221391653558041\n10. -0.621070845297785\n\n\n",
            "text/latex": "\\begin{enumerate*}\n\\item -0.0623772290918319\n\\item 0.0158613652536417\n\\item -0.413801863147226\n\\item 1.81900078272142\n\\item -0.131865200416971\n\\item 0.121567461172143\n\\item 0.783977542758009\n\\item -0.736947615085381\n\\item 0.221391653558041\n\\item -0.621070845297785\n\\end{enumerate*}\n",
            "text/plain": [
              " [1] -0.06237723  0.01586137 -0.41380186  1.81900078 -0.13186520  0.12156746\n",
              " [7]  0.78397754 -0.73694762  0.22139165 -0.62107085"
            ]
          },
          "metadata": {}
        }
      ]
    },
    {
      "cell_type": "markdown",
      "source": [
        "You can make changes to a Colab notebook, and they will persist for as long as you keep your browser tab open. But once you close it, the changes will be lost. To avoid this, make sure you save a copy of the notebook to your Google Drive by selecting File → “Save a copy in Drive”."
      ],
      "metadata": {
        "id": "n1bA_o4z7Nh0"
      }
    },
    {
      "cell_type": "markdown",
      "source": [
        "## Load Libraries\n",
        "\n",
        "As is the custom with Jupyter notebooks, we start by loading some libraries that are going to be helpful. In the following code, we also indicate where the libraries are needed with comments."
      ],
      "metadata": {
        "id": "N2hdKHe4JDi4"
      }
    },
    {
      "cell_type": "code",
      "source": [
        "install.packages(\"Hmisc\")\n",
        "library(Hmisc)\n",
        "install.packages(\"doBy\")\n",
        "library(doBy)"
      ],
      "metadata": {
        "colab": {
          "base_uri": "https://localhost:8080/"
        },
        "id": "9x382MrGJSQQ",
        "outputId": "96205b7b-51a3-43bc-bd11-657b3de3a1e1"
      },
      "execution_count": null,
      "outputs": [
        {
          "output_type": "stream",
          "name": "stderr",
          "text": [
            "Installing package into ‘/usr/local/lib/R/site-library’\n",
            "(as ‘lib’ is unspecified)\n",
            "\n",
            "also installing the dependencies ‘checkmate’, ‘gridExtra’, ‘htmlTable’, ‘viridis’, ‘colorspace’, ‘Formula’\n",
            "\n",
            "\n",
            "\n",
            "Attaching package: ‘Hmisc’\n",
            "\n",
            "\n",
            "The following objects are masked from ‘package:base’:\n",
            "\n",
            "    format.pval, units\n",
            "\n",
            "\n",
            "Installing package into ‘/usr/local/lib/R/site-library’\n",
            "(as ‘lib’ is unspecified)\n",
            "\n",
            "also installing the dependencies ‘cowplot’, ‘Deriv’, ‘microbenchmark’\n",
            "\n",
            "\n"
          ]
        }
      ]
    },
    {
      "cell_type": "markdown",
      "source": [
        "# Import and Describe the Data\n",
        "\n",
        "First, we import the data from Github course repo. At the repo \"https://github.com/OpenActTextDev/ActuarialRegression\", you will see other datasets."
      ],
      "metadata": {
        "id": "7jxfSRWT8pU2"
      }
    },
    {
      "cell_type": "code",
      "source": [
        "Hexpend <- read.csv(\"https://raw.githubusercontent.com/OpenActTextDev/ActuarialRegression/refs/heads/main/CSVData/HealthExpend.csv\", header=TRUE)"
      ],
      "metadata": {
        "id": "tY6CxxEn7Yv9"
      },
      "execution_count": null,
      "outputs": []
    },
    {
      "cell_type": "markdown",
      "source": [
        "Just to make sure that data was read in properly, let's look at the structure and do a summary."
      ],
      "metadata": {
        "id": "geJTceeBFk7e"
      }
    },
    {
      "cell_type": "code",
      "source": [
        "str(Hexpend)\n",
        "summary(Hexpend)"
      ],
      "metadata": {
        "id": "44L0LqSeFjf1",
        "colab": {
          "base_uri": "https://localhost:8080/",
          "height": 1000
        },
        "outputId": "bcc8add4-fb49-410e-b072-4c1b809da65b"
      },
      "execution_count": null,
      "outputs": [
        {
          "output_type": "stream",
          "name": "stdout",
          "text": [
            "'data.frame':\t2000 obs. of  28 variables:\n",
            " $ AGE        : int  30 56 55 47 50 45 25 61 50 19 ...\n",
            " $ ANYLIMIT   : int  0 1 1 0 0 0 0 0 0 0 ...\n",
            " $ COLLEGE    : int  0 0 1 1 1 1 0 0 1 0 ...\n",
            " $ HIGHSCH    : int  0 1 0 0 0 0 1 1 0 0 ...\n",
            " $ GENDER     : int  0 0 0 1 1 1 0 1 0 1 ...\n",
            " $ MNHPOOR    : int  0 0 0 0 0 0 0 0 0 0 ...\n",
            " $ insure     : int  0 1 1 1 1 1 1 0 1 1 ...\n",
            " $ USC        : int  0 1 1 1 1 1 0 1 1 0 ...\n",
            " $ UNEMPLOY   : int  0 1 0 0 1 1 0 0 0 0 ...\n",
            " $ MANAGEDCARE: int  0 1 0 0 1 1 1 0 0 1 ...\n",
            " $ famsize    : int  3 3 2 2 1 4 1 2 6 6 ...\n",
            " $ COUNTIP    : int  0 0 2 0 0 0 0 0 0 0 ...\n",
            " $ EXPENDIP   : num  0 0 16121 0 0 ...\n",
            " $ COUNTOP    : int  0 5 42 4 43 5 0 4 0 24 ...\n",
            " $ EXPENDOP   : num  0 2385 29730 110 3299 ...\n",
            " $ RACE       : chr  \"WHITE\" \"BLACK\" \"WHITE\" \"BLACK\" ...\n",
            " $ RACE1      : int  4 2 4 2 4 4 4 4 4 4 ...\n",
            " $ REGION     : chr  \"MIDWEST\" \"SOUTH\" \"MIDWEST\" \"NORTHEAST\" ...\n",
            " $ REGION1    : int  2 3 2 1 0 2 0 2 0 0 ...\n",
            " $ EDUC       : chr  \"LHIGHSC\" \"HIGHSCH\" \"COLLEGE\" \"COLLEGE\" ...\n",
            " $ EDUC1      : int  0 1 2 2 2 2 1 1 2 0 ...\n",
            " $ MARISTAT   : chr  \"MARRIED\" \"MARRIED\" \"MARRIED\" \"MARRIED\" ...\n",
            " $ MARISTAT1  : int  1 1 1 1 3 1 0 1 1 0 ...\n",
            " $ INCOME     : chr  \"MINCOME\" \"MINCOME\" \"HINCOME\" \"HINCOME\" ...\n",
            " $ INCOME1    : int  3 3 4 4 2 3 2 4 3 3 ...\n",
            " $ PHSTAT     : chr  \"EXCE\" \"GOOD\" \"EXCE\" \"FAIR\" ...\n",
            " $ PHSTAT1    : int  0 2 0 3 2 1 1 1 1 0 ...\n",
            " $ INDUSCLASS : chr  \"TRANSINFO\" \"\" \"NATRESOURCE\" \"\" ...\n"
          ]
        },
        {
          "output_type": "display_data",
          "data": {
            "text/plain": [
              "      AGE           ANYLIMIT        COLLEGE         HIGHSCH     \n",
              " Min.   :18.00   Min.   :0.000   Min.   :0.000   Min.   :0.000  \n",
              " 1st Qu.:28.00   1st Qu.:0.000   1st Qu.:0.000   1st Qu.:0.000  \n",
              " Median :39.00   Median :0.000   Median :0.000   Median :0.000  \n",
              " Mean   :39.03   Mean   :0.223   Mean   :0.272   Mean   :0.433  \n",
              " 3rd Qu.:49.00   3rd Qu.:0.000   3rd Qu.:1.000   3rd Qu.:1.000  \n",
              " Max.   :65.00   Max.   :1.000   Max.   :1.000   Max.   :1.000  \n",
              "     GENDER         MNHPOOR           insure            USC        \n",
              " Min.   :0.000   Min.   :0.0000   Min.   :0.0000   Min.   :0.0000  \n",
              " 1st Qu.:0.000   1st Qu.:0.0000   1st Qu.:1.0000   1st Qu.:0.0000  \n",
              " Median :1.000   Median :0.0000   Median :1.0000   Median :1.0000  \n",
              " Mean   :0.527   Mean   :0.0745   Mean   :0.7775   Mean   :0.6875  \n",
              " 3rd Qu.:1.000   3rd Qu.:0.0000   3rd Qu.:1.0000   3rd Qu.:1.0000  \n",
              " Max.   :1.000   Max.   :1.0000   Max.   :1.0000   Max.   :1.0000  \n",
              "    UNEMPLOY       MANAGEDCARE        famsize          COUNTIP      \n",
              " Min.   :0.0000   Min.   :0.0000   Min.   : 1.000   Min.   :0.0000  \n",
              " 1st Qu.:0.0000   1st Qu.:0.0000   1st Qu.: 2.000   1st Qu.:0.0000  \n",
              " Median :0.0000   Median :1.0000   Median : 3.000   Median :0.0000  \n",
              " Mean   :0.2265   Mean   :0.5905   Mean   : 3.333   Mean   :0.1015  \n",
              " 3rd Qu.:0.0000   3rd Qu.:1.0000   3rd Qu.: 4.000   3rd Qu.:0.0000  \n",
              " Max.   :1.0000   Max.   :1.0000   Max.   :12.000   Max.   :7.0000  \n",
              "    EXPENDIP         COUNTOP           EXPENDOP           RACE          \n",
              " Min.   :     0   Min.   :  0.000   Min.   :    0.0   Length:2000       \n",
              " 1st Qu.:     0   1st Qu.:  0.000   1st Qu.:    0.0   Class :character  \n",
              " Median :     0   Median :  2.000   Median :  219.2   Mode  :character  \n",
              " Mean   :  1008   Mean   :  5.675   Mean   : 1253.0                     \n",
              " 3rd Qu.:     0   3rd Qu.:  6.000   3rd Qu.: 1152.8                     \n",
              " Max.   :607801   Max.   :167.000   Max.   :62811.1                     \n",
              "     RACE1          REGION             REGION1          EDUC          \n",
              " Min.   :0.000   Length:2000        Min.   :0.000   Length:2000       \n",
              " 1st Qu.:4.000   Class :character   1st Qu.:0.000   Class :character  \n",
              " Median :4.000   Mode  :character   Median :2.000   Mode  :character  \n",
              " Mean   :3.499                      Mean   :1.682                     \n",
              " 3rd Qu.:4.000                      3rd Qu.:3.000                     \n",
              " Max.   :4.000                      Max.   :3.000                     \n",
              "     EDUC1         MARISTAT           MARISTAT1        INCOME         \n",
              " Min.   :0.000   Length:2000        Min.   :0.000   Length:2000       \n",
              " 1st Qu.:0.000   Class :character   1st Qu.:0.000   Class :character  \n",
              " Median :1.000   Mode  :character   Median :1.000   Mode  :character  \n",
              " Mean   :0.977                      Mean   :0.982                     \n",
              " 3rd Qu.:2.000                      3rd Qu.:1.000                     \n",
              " Max.   :2.000                      Max.   :3.000                     \n",
              "    INCOME1         PHSTAT             PHSTAT1       INDUSCLASS       \n",
              " Min.   :0.000   Length:2000        Min.   :0.000   Length:2000       \n",
              " 1st Qu.:2.000   Class :character   1st Qu.:0.000   Class :character  \n",
              " Median :3.000   Mode  :character   Median :1.000   Mode  :character  \n",
              " Mean   :2.534                      Mean   :1.355                     \n",
              " 3rd Qu.:4.000                      3rd Qu.:2.000                     \n",
              " Max.   :4.000                      Max.   :4.000                     "
            ]
          },
          "metadata": {}
        }
      ]
    },
    {
      "cell_type": "markdown",
      "source": [
        "This is table appears in the book (Section 11.1). This book is freely available in Spanish, [Modelado de Regresión con Aplicaciones Actuariales y Financieras](https://openacttextdev.github.io/RegressionSpanish/index.html)."
      ],
      "metadata": {
        "id": "ttZ39l1fGDD4"
      }
    },
    {
      "cell_type": "code",
      "source": [
        "row1 <- c(\"Not hospitalized\" , \"y=0\" , \"902 (95.3%)\" , \"941 (89.3%)\" )\n",
        "row2 <- c(\"Hospitalized\" , \"y=1 \",  \"44 (4.7%)\"  , \"113 (10.7%)\" )\n",
        "row3 <- c(\"Total\" ,  \"\", \"946\"  , \"1,054\" )\n",
        "tableout <- rbind(row1, row2, row3)\n",
        "row.names(tableout) <- NULL\n",
        "colnames(tableout) <- c(\"\", \"\", \"Male\", \"Female\")\n",
        "tableout\n"
      ],
      "metadata": {
        "id": "8w05UAFlHBtI",
        "colab": {
          "base_uri": "https://localhost:8080/",
          "height": 160
        },
        "outputId": "df0fcc8c-9b2e-446c-8f39-a90506ce0a60"
      },
      "execution_count": null,
      "outputs": [
        {
          "output_type": "display_data",
          "data": {
            "text/html": [
              "<table class=\"dataframe\">\n",
              "<caption>A matrix: 3 × 4 of type chr</caption>\n",
              "<thead>\n",
              "\t<tr><th scope=col></th><th scope=col></th><th scope=col>Male</th><th scope=col>Female</th></tr>\n",
              "</thead>\n",
              "<tbody>\n",
              "\t<tr><td>Not hospitalized</td><td>y=0 </td><td>902 (95.3%)</td><td>941 (89.3%)</td></tr>\n",
              "\t<tr><td>Hospitalized    </td><td>y=1 </td><td>44 (4.7%)  </td><td>113 (10.7%)</td></tr>\n",
              "\t<tr><td>Total           </td><td>    </td><td>946        </td><td>1,054      </td></tr>\n",
              "</tbody>\n",
              "</table>\n"
            ],
            "text/markdown": "\nA matrix: 3 × 4 of type chr\n\n| <!----> | <!----> | Male | Female |\n|---|---|---|---|\n| Not hospitalized | y=0  | 902 (95.3%) | 941 (89.3%) |\n| Hospitalized     | y=1  | 44 (4.7%)   | 113 (10.7%) |\n| Total            | <!----> | 946         | 1,054       |\n\n",
            "text/latex": "A matrix: 3 × 4 of type chr\n\\begin{tabular}{llll}\n  &  & Male & Female\\\\\n\\hline\n\t Not hospitalized & y=0  & 902 (95.3\\%) & 941 (89.3\\%)\\\\\n\t Hospitalized     & y=1  & 44 (4.7\\%)   & 113 (10.7\\%)\\\\\n\t Total            &      & 946         & 1,054      \\\\\n\\end{tabular}\n",
            "text/plain": [
              "                           Male        Female     \n",
              "[1,] Not hospitalized y=0  902 (95.3%) 941 (89.3%)\n",
              "[2,] Hospitalized     y=1  44 (4.7%)   113 (10.7%)\n",
              "[3,] Total                 946         1,054      "
            ]
          },
          "metadata": {}
        }
      ]
    },
    {
      "cell_type": "markdown",
      "source": [
        "We can get some quick summaries with the 'table' function in 'R'."
      ],
      "metadata": {
        "id": "QR57EyC6HbL8"
      }
    },
    {
      "cell_type": "code",
      "source": [
        "POSEXP = 1*(Hexpend$EXPENDIP>0)\n",
        "table(POSEXP)\n",
        "table(Hexpend$GENDER)"
      ],
      "metadata": {
        "colab": {
          "base_uri": "https://localhost:8080/",
          "height": 123
        },
        "id": "q8H03qQcGd7p",
        "outputId": "c14a2f64-1597-4d78-f1b3-1847b9d95891"
      },
      "execution_count": null,
      "outputs": [
        {
          "output_type": "display_data",
          "data": {
            "text/plain": [
              "POSEXP\n",
              "   0    1 \n",
              "1843  157 "
            ]
          },
          "metadata": {}
        },
        {
          "output_type": "display_data",
          "data": {
            "text/plain": [
              "\n",
              "   0    1 \n",
              " 946 1054 "
            ]
          },
          "metadata": {}
        }
      ]
    },
    {
      "cell_type": "markdown",
      "source": [
        "However, for more complex summarizes, we utilize a library \"Hmisc\". These needs to be first **installed**, which may take a couple of minutes in Google Colab."
      ],
      "metadata": {
        "id": "-Xjl2iHFHmP-"
      }
    },
    {
      "cell_type": "code",
      "source": [
        "#install.packages(\"Hmisc\")\n",
        "#library(Hmisc)\n",
        "Hmisc::summarize(POSEXP, Hexpend$GENDER, mean)"
      ],
      "metadata": {
        "id": "zIlhw8pQHROm",
        "colab": {
          "base_uri": "https://localhost:8080/",
          "height": 160
        },
        "outputId": "42981778-3f64-4b96-fdde-923612d10987"
      },
      "execution_count": null,
      "outputs": [
        {
          "output_type": "display_data",
          "data": {
            "text/html": [
              "<table class=\"dataframe\">\n",
              "<caption>A data.frame: 2 × 2</caption>\n",
              "<thead>\n",
              "\t<tr><th></th><th scope=col>Hexpend$GENDER</th><th scope=col>POSEXP</th></tr>\n",
              "\t<tr><th></th><th scope=col>&lt;labelled&gt;</th><th scope=col>&lt;labelled[1d]&gt;</th></tr>\n",
              "</thead>\n",
              "<tbody>\n",
              "\t<tr><th scope=row>1</th><td>0</td><td>0.04651163</td></tr>\n",
              "\t<tr><th scope=row>2</th><td>1</td><td>0.10721063</td></tr>\n",
              "</tbody>\n",
              "</table>\n"
            ],
            "text/markdown": "\nA data.frame: 2 × 2\n\n| <!--/--> | Hexpend$GENDER &lt;labelled&gt; | POSEXP &lt;labelled[1d]&gt; |\n|---|---|---|\n| 1 | 0 | 0.04651163 |\n| 2 | 1 | 0.10721063 |\n\n",
            "text/latex": "A data.frame: 2 × 2\n\\begin{tabular}{r|ll}\n  & Hexpend\\$GENDER & POSEXP\\\\\n  & <labelled> & <labelled{[}1d{]}>\\\\\n\\hline\n\t1 & 0 & 0.04651163\\\\\n\t2 & 1 & 0.10721063\\\\\n\\end{tabular}\n",
            "text/plain": [
              "  Hexpend$GENDER POSEXP    \n",
              "1 0              0.04651163\n",
              "2 1              0.10721063"
            ]
          },
          "metadata": {}
        }
      ]
    },
    {
      "cell_type": "markdown",
      "source": [
        "Here is some output that we can get from \"Hmisc.\" This example also illustrates how to create functions in \"R\"."
      ],
      "metadata": {
        "id": "jdc_lcec8nfc"
      }
    },
    {
      "cell_type": "code",
      "source": [
        "#  CREATE A SHORT FUNCTION TO SAVE WORK\n",
        "fun1 <- function(y){\n",
        "  options(digits=3)\n",
        "  temp0 <- cbind(table(y)/length(y),Hmisc::summarize(POSEXP, y, mean))\n",
        "  temp <- temp0[c(2,1),]\n",
        "  temp[,c(2,4)] <- round(temp[,c(2,4)], digits=3)\n",
        "return(cbind(temp[,3],temp[,2],temp[,4]))}\n",
        "\n",
        "var1 <- fun1(Hexpend$GENDER)\n",
        "var2 <- fun1(Hexpend$RACE)\n",
        "var3 <- fun1(Hexpend$REGION)\n",
        "var4 <- fun1(Hexpend$EDUC)\n",
        "var5 <- fun1(Hexpend$PHSTAT)\n",
        "#var6 <- fun1(Hexpend$MPOOR)\n",
        "var7 <- fun1(Hexpend$ANYLIMIT)\n",
        "var8 <- fun1(Hexpend$INCOME)\n",
        "var9 <- fun1(Hexpend$insure)\n",
        "tableout <- rbind(var1, var2, var3, var4,\n",
        "                  var5, var7, var8, var9)\n",
        "tableout"
      ],
      "metadata": {
        "colab": {
          "base_uri": "https://localhost:8080/",
          "height": 536
        },
        "id": "pw7kQRkq9I67",
        "outputId": "94b3a00a-e322-4ca5-adcd-af2074bed16a"
      },
      "execution_count": null,
      "outputs": [
        {
          "output_type": "display_data",
          "data": {
            "text/html": [
              "<table class=\"dataframe\">\n",
              "<caption>A matrix: 16 × 3 of type chr</caption>\n",
              "<tbody>\n",
              "\t<tr><td>1        </td><td>0.527</td><td>0.107</td></tr>\n",
              "\t<tr><td>0        </td><td>0.473</td><td>0.047</td></tr>\n",
              "\t<tr><td>BLACK    </td><td>0.148</td><td>0.105</td></tr>\n",
              "\t<tr><td>ASIAN    </td><td>0.043</td><td>0.047</td></tr>\n",
              "\t<tr><td>NORTHEAST</td><td>0.143</td><td>0.101</td></tr>\n",
              "\t<tr><td>MIDWEST  </td><td>0.196</td><td>0.087</td></tr>\n",
              "\t<tr><td>HIGHSCH  </td><td>0.433</td><td>0.079</td></tr>\n",
              "\t<tr><td>COLLEGE  </td><td>0.272</td><td>0.068</td></tr>\n",
              "\t<tr><td>FAIR     </td><td>0.098</td><td>0.081</td></tr>\n",
              "\t<tr><td>EXCE     </td><td>0.254</td><td>0.051</td></tr>\n",
              "\t<tr><td>1        </td><td>0.223</td><td>0.146</td></tr>\n",
              "\t<tr><td>0        </td><td>0.777</td><td>0.059</td></tr>\n",
              "\t<tr><td>LINCOME  </td><td>0.158</td><td>0.083</td></tr>\n",
              "\t<tr><td>HINCOME  </td><td>0.316</td><td>0.054</td></tr>\n",
              "\t<tr><td>1        </td><td>0.777</td><td>0.092</td></tr>\n",
              "\t<tr><td>0        </td><td>0.222</td><td>0.031</td></tr>\n",
              "</tbody>\n",
              "</table>\n"
            ],
            "text/markdown": "\nA matrix: 16 × 3 of type chr\n\n| 1         | 0.527 | 0.107 |\n| 0         | 0.473 | 0.047 |\n| BLACK     | 0.148 | 0.105 |\n| ASIAN     | 0.043 | 0.047 |\n| NORTHEAST | 0.143 | 0.101 |\n| MIDWEST   | 0.196 | 0.087 |\n| HIGHSCH   | 0.433 | 0.079 |\n| COLLEGE   | 0.272 | 0.068 |\n| FAIR      | 0.098 | 0.081 |\n| EXCE      | 0.254 | 0.051 |\n| 1         | 0.223 | 0.146 |\n| 0         | 0.777 | 0.059 |\n| LINCOME   | 0.158 | 0.083 |\n| HINCOME   | 0.316 | 0.054 |\n| 1         | 0.777 | 0.092 |\n| 0         | 0.222 | 0.031 |\n\n",
            "text/latex": "A matrix: 16 × 3 of type chr\n\\begin{tabular}{lll}\n\t 1         & 0.527 & 0.107\\\\\n\t 0         & 0.473 & 0.047\\\\\n\t BLACK     & 0.148 & 0.105\\\\\n\t ASIAN     & 0.043 & 0.047\\\\\n\t NORTHEAST & 0.143 & 0.101\\\\\n\t MIDWEST   & 0.196 & 0.087\\\\\n\t HIGHSCH   & 0.433 & 0.079\\\\\n\t COLLEGE   & 0.272 & 0.068\\\\\n\t FAIR      & 0.098 & 0.081\\\\\n\t EXCE      & 0.254 & 0.051\\\\\n\t 1         & 0.223 & 0.146\\\\\n\t 0         & 0.777 & 0.059\\\\\n\t LINCOME   & 0.158 & 0.083\\\\\n\t HINCOME   & 0.316 & 0.054\\\\\n\t 1         & 0.777 & 0.092\\\\\n\t 0         & 0.222 & 0.031\\\\\n\\end{tabular}\n",
            "text/plain": [
              "      [,1]      [,2]  [,3] \n",
              " [1,] 1         0.527 0.107\n",
              " [2,] 0         0.473 0.047\n",
              " [3,] BLACK     0.148 0.105\n",
              " [4,] ASIAN     0.043 0.047\n",
              " [5,] NORTHEAST 0.143 0.101\n",
              " [6,] MIDWEST   0.196 0.087\n",
              " [7,] HIGHSCH   0.433 0.079\n",
              " [8,] COLLEGE   0.272 0.068\n",
              " [9,] FAIR      0.098 0.081\n",
              "[10,] EXCE      0.254 0.051\n",
              "[11,] 1         0.223 0.146\n",
              "[12,] 0         0.777 0.059\n",
              "[13,] LINCOME   0.158 0.083\n",
              "[14,] HINCOME   0.316 0.054\n",
              "[15,] 1         0.777 0.092\n",
              "[16,] 0         0.222 0.031"
            ]
          },
          "metadata": {}
        }
      ]
    },
    {
      "cell_type": "markdown",
      "source": [
        "# Linear Regression Model\n",
        "\n",
        "Just to get started, let us fit a linear regression model, using inpatient expenditures (EXPENDIP) as the target (response) variable.\n",
        "\n",
        "Because of the very large proportion of zeros (corresponding to no expenditures) and long-tail nature of positive expenditures, this naive approach is generally not a good one."
      ],
      "metadata": {
        "id": "b94qa3rf-2M_"
      }
    },
    {
      "cell_type": "code",
      "source": [
        "model1 = lm(EXPENDIP~AGE+GENDER + # COUNTIP+\n",
        "    factor(RACE)+factor(REGION)+factor(EDUC)+factor(PHSTAT) +\n",
        "    MNHPOOR+ANYLIMIT+factor(INCOME)+insure, data = Hexpend)\n",
        "\n",
        "sum4 <- summary(model1)\n",
        "sum4$r.squared\n",
        "tableout <- round(sum4$coefficients[,1:3], digits = 2)\n",
        "colnames(tableout) <- c(\"Coefficient\", \"Standard Error\", \"$t$-Statistic\")\n",
        "knitr::kable(tableout,  booktabs = T, digits=2)\n",
        "knitr::kable(anova(model1),  booktabs = T, digits=2)"
      ],
      "metadata": {
        "colab": {
          "base_uri": "https://localhost:8080/",
          "height": 777
        },
        "id": "guPnapMn-_LE",
        "outputId": "621073b4-f2aa-468b-99b9-4de888c92407"
      },
      "execution_count": null,
      "outputs": [
        {
          "output_type": "display_data",
          "data": {
            "text/html": [
              "0.0168196623633911"
            ],
            "text/markdown": "0.0168196623633911",
            "text/latex": "0.0168196623633911",
            "text/plain": [
              "[1] 0.0168"
            ]
          },
          "metadata": {}
        },
        {
          "output_type": "display_data",
          "data": {
            "text/plain": [
              "\n",
              "\n",
              "|                        | Coefficient| Standard Error| $t$-Statistic|\n",
              "|:-----------------------|-----------:|--------------:|-------------:|\n",
              "|(Intercept)             |     1349.05|         2258.5|          0.60|\n",
              "|AGE                     |      -38.97|           26.1|         -1.49|\n",
              "|GENDER                  |     -411.57|          640.5|         -0.64|\n",
              "|factor(RACE)BLACK       |      213.34|         1775.9|          0.12|\n",
              "|factor(RACE)NATIV       |      -44.84|         3373.8|         -0.01|\n",
              "|factor(RACE)OTHER       |     -228.92|         2896.1|         -0.08|\n",
              "|factor(RACE)WHITE       |      384.70|         1572.5|          0.24|\n",
              "|factor(REGION)NORTHEAST |    -1850.44|         1099.8|         -1.68|\n",
              "|factor(REGION)SOUTH     |    -1723.80|          893.7|         -1.93|\n",
              "|factor(REGION)WEST      |    -2138.81|          946.9|         -2.26|\n",
              "|factor(EDUC)HIGHSCH     |      109.87|          805.4|          0.14|\n",
              "|factor(EDUC)LHIGHSC     |     1516.30|          970.1|          1.56|\n",
              "|factor(PHSTAT)FAIR      |     -263.28|         1294.2|         -0.20|\n",
              "|factor(PHSTAT)GOOD      |     1180.45|          876.5|          1.35|\n",
              "|factor(PHSTAT)POOR      |     4311.43|         1971.1|          2.19|\n",
              "|factor(PHSTAT)VGOO      |      175.88|          847.3|          0.21|\n",
              "|MNHPOOR                 |     -801.96|         1347.1|         -0.60|\n",
              "|ANYLIMIT                |     2361.53|          838.6|          2.82|\n",
              "|factor(INCOME)LINCOME   |       -6.29|         1060.7|         -0.01|\n",
              "|factor(INCOME)MINCOME   |      687.09|          839.1|          0.82|\n",
              "|factor(INCOME)NPOOR     |     -266.62|         1506.2|         -0.18|\n",
              "|factor(INCOME)POOR      |     -431.33|         1113.8|         -0.39|\n",
              "|insure                  |     1243.78|          830.5|          1.50|"
            ]
          },
          "metadata": {}
        },
        {
          "output_type": "display_data",
          "data": {
            "text/plain": [
              "\n",
              "\n",
              "|               |   Df|   Sum Sq|  Mean Sq| F value| Pr(>F)|\n",
              "|:--------------|----:|--------:|--------:|-------:|------:|\n",
              "|AGE            |    1| 8.73e+06| 8.73e+06|    0.04|   0.83|\n",
              "|GENDER         |    1| 3.49e+07| 3.49e+07|    0.18|   0.67|\n",
              "|factor(RACE)   |    4| 7.95e+07| 1.99e+07|    0.10|   0.98|\n",
              "|factor(REGION) |    3| 1.13e+09| 3.77e+08|    1.91|   0.13|\n",
              "|factor(EDUC)   |    2| 7.10e+08| 3.55e+08|    1.80|   0.17|\n",
              "|factor(PHSTAT) |    4| 2.08e+09| 5.21e+08|    2.64|   0.03|\n",
              "|MNHPOOR        |    1| 1.43e+07| 1.43e+07|    0.07|   0.79|\n",
              "|ANYLIMIT       |    1| 1.73e+09| 1.73e+09|    8.76|   0.00|\n",
              "|factor(INCOME) |    4| 4.31e+08| 1.08e+08|    0.55|   0.70|\n",
              "|insure         |    1| 4.42e+08| 4.42e+08|    2.24|   0.13|\n",
              "|Residuals      | 1977| 3.89e+11| 1.97e+08|      NA|     NA|"
            ]
          },
          "metadata": {}
        }
      ]
    },
    {
      "cell_type": "markdown",
      "source": [
        "A regression model for fitting inpatient expenditures (EXPENDIP) produces poor results. For example, The $R^2 < 2 \\%$.\n",
        "\n",
        "The statistical significance of ANYLIMIT is due to a single observation."
      ],
      "metadata": {
        "id": "K-qaa7uj_NGE"
      }
    },
    {
      "cell_type": "code",
      "source": [
        "plot(Hexpend$ANYLIMIT, Hexpend$EXPENDIP)"
      ],
      "metadata": {
        "colab": {
          "base_uri": "https://localhost:8080/",
          "height": 437
        },
        "id": "yhdRUTli_TQE",
        "outputId": "0e2584cd-059b-40cd-8b6a-74a1f8682f3b"
      },
      "execution_count": null,
      "outputs": [
        {
          "output_type": "display_data",
          "data": {
            "text/plain": [
              "plot without title"
            ],
            "image/png": "[encoded data removed]"
          },
          "metadata": {
            "image/png": {
              "width": 420,
              "height": 420
            }
          }
        }
      ]
    },
    {
      "cell_type": "markdown",
      "source": [
        "#  Logistic Regression"
      ],
      "metadata": {
        "id": "x_HMDO44IYN7"
      }
    },
    {
      "cell_type": "code",
      "source": [
        "#  Table 11.5\n",
        "Hexpend$POSEXP = 1*(Hexpend$EXPENDIP>0)\n",
        "\n",
        "#  CHANGE REFERENCE LEVELS TO AGREE WITH BOOK (DONE IN SAS)\n",
        "attach(Hexpend)\n",
        "RACE = relevel(factor(RACE),ref=\"WHITE\")\n",
        "REGION = relevel(factor(REGION),ref=\"WEST\")\n",
        "EDUC = relevel(factor(EDUC),ref=\"LHIGHSC\")\n",
        "PHSTAT = relevel(factor(PHSTAT),ref=\"EXCE\")\n",
        "INCOME = relevel(factor(INCOME),ref=\"POOR\")\n",
        "\n",
        "# FULL LOGIT MODEL;\n",
        "PosExpglmFull = glm(POSEXP~AGE+GENDER\n",
        " +factor(RACE)+ factor(REGION)+factor(EDUC)\n",
        " +factor(PHSTAT)+ANYLIMIT+factor(INCOME)\n",
        " +insure, family=binomial(link=logit))\n",
        "#summary(PosExpglmFull)\n",
        "Table1 <- summary(PosExpglmFull)\n",
        "Table1Red <- round(Table1$coefficients[,c(1,3)], digits=3)\n",
        "Table1Red"
      ],
      "metadata": {
        "colab": {
          "base_uri": "https://localhost:8080/",
          "height": 845
        },
        "id": "2o_Uh7xw-Jir",
        "outputId": "6281a94f-949b-46f3-eee2-8805a0f03b56"
      },
      "execution_count": null,
      "outputs": [
        {
          "output_type": "stream",
          "name": "stderr",
          "text": [
            "The following object is masked _by_ .GlobalEnv:\n",
            "\n",
            "    POSEXP\n",
            "\n",
            "\n"
          ]
        },
        {
          "output_type": "display_data",
          "data": {
            "text/html": [
              "<table class=\"dataframe\">\n",
              "<caption>A matrix: 22 × 2 of type dbl</caption>\n",
              "<thead>\n",
              "\t<tr><th></th><th scope=col>Estimate</th><th scope=col>z value</th></tr>\n",
              "</thead>\n",
              "<tbody>\n",
              "\t<tr><th scope=row>(Intercept)</th><td>-4.239</td><td>-8.981</td></tr>\n",
              "\t<tr><th scope=row>AGE</th><td>-0.001</td><td>-0.170</td></tr>\n",
              "\t<tr><th scope=row>GENDER</th><td> 0.734</td><td> 3.815</td></tr>\n",
              "\t<tr><th scope=row>factor(RACE)ASIAN</th><td>-0.222</td><td>-0.417</td></tr>\n",
              "\t<tr><th scope=row>factor(RACE)BLACK</th><td>-0.004</td><td>-0.017</td></tr>\n",
              "\t<tr><th scope=row>factor(RACE)NATIV</th><td> 0.602</td><td> 0.913</td></tr>\n",
              "\t<tr><th scope=row>factor(RACE)OTHER</th><td>-0.215</td><td>-0.320</td></tr>\n",
              "\t<tr><th scope=row>factor(REGION)MIDWEST</th><td> 0.518</td><td> 1.887</td></tr>\n",
              "\t<tr><th scope=row>factor(REGION)NORTHEAST</th><td> 0.605</td><td> 2.099</td></tr>\n",
              "\t<tr><th scope=row>factor(REGION)SOUTH</th><td> 0.332</td><td> 1.355</td></tr>\n",
              "\t<tr><th scope=row>factor(EDUC)COLLEGE</th><td> 0.068</td><td> 0.255</td></tr>\n",
              "\t<tr><th scope=row>factor(EDUC)HIGHSCH</th><td> 0.005</td><td> 0.025</td></tr>\n",
              "\t<tr><th scope=row>factor(PHSTAT)FAIR</th><td> 0.115</td><td> 0.321</td></tr>\n",
              "\t<tr><th scope=row>factor(PHSTAT)GOOD</th><td> 0.371</td><td> 1.409</td></tr>\n",
              "\t<tr><th scope=row>factor(PHSTAT)POOR</th><td> 1.668</td><td> 4.524</td></tr>\n",
              "\t<tr><th scope=row>factor(PHSTAT)VGOO</th><td> 0.175</td><td> 0.654</td></tr>\n",
              "\t<tr><th scope=row>ANYLIMIT</th><td> 0.554</td><td> 2.651</td></tr>\n",
              "\t<tr><th scope=row>factor(INCOME)HINCOME</th><td>-0.911</td><td>-3.082</td></tr>\n",
              "\t<tr><th scope=row>factor(INCOME)LINCOME</th><td>-0.404</td><td>-1.431</td></tr>\n",
              "\t<tr><th scope=row>factor(INCOME)MINCOME</th><td>-0.600</td><td>-2.288</td></tr>\n",
              "\t<tr><th scope=row>factor(INCOME)NPOOR</th><td>-0.199</td><td>-0.522</td></tr>\n",
              "\t<tr><th scope=row>insure</th><td> 1.232</td><td> 4.041</td></tr>\n",
              "</tbody>\n",
              "</table>\n"
            ],
            "text/markdown": "\nA matrix: 22 × 2 of type dbl\n\n| <!--/--> | Estimate | z value |\n|---|---|---|\n| (Intercept) | -4.239 | -8.981 |\n| AGE | -0.001 | -0.170 |\n| GENDER |  0.734 |  3.815 |\n| factor(RACE)ASIAN | -0.222 | -0.417 |\n| factor(RACE)BLACK | -0.004 | -0.017 |\n| factor(RACE)NATIV |  0.602 |  0.913 |\n| factor(RACE)OTHER | -0.215 | -0.320 |\n| factor(REGION)MIDWEST |  0.518 |  1.887 |\n| factor(REGION)NORTHEAST |  0.605 |  2.099 |\n| factor(REGION)SOUTH |  0.332 |  1.355 |\n| factor(EDUC)COLLEGE |  0.068 |  0.255 |\n| factor(EDUC)HIGHSCH |  0.005 |  0.025 |\n| factor(PHSTAT)FAIR |  0.115 |  0.321 |\n| factor(PHSTAT)GOOD |  0.371 |  1.409 |\n| factor(PHSTAT)POOR |  1.668 |  4.524 |\n| factor(PHSTAT)VGOO |  0.175 |  0.654 |\n| ANYLIMIT |  0.554 |  2.651 |\n| factor(INCOME)HINCOME | -0.911 | -3.082 |\n| factor(INCOME)LINCOME | -0.404 | -1.431 |\n| factor(INCOME)MINCOME | -0.600 | -2.288 |\n| factor(INCOME)NPOOR | -0.199 | -0.522 |\n| insure |  1.232 |  4.041 |\n\n",
            "text/latex": "A matrix: 22 × 2 of type dbl\n\\begin{tabular}{r|ll}\n  & Estimate & z value\\\\\n\\hline\n\t(Intercept) & -4.239 & -8.981\\\\\n\tAGE & -0.001 & -0.170\\\\\n\tGENDER &  0.734 &  3.815\\\\\n\tfactor(RACE)ASIAN & -0.222 & -0.417\\\\\n\tfactor(RACE)BLACK & -0.004 & -0.017\\\\\n\tfactor(RACE)NATIV &  0.602 &  0.913\\\\\n\tfactor(RACE)OTHER & -0.215 & -0.320\\\\\n\tfactor(REGION)MIDWEST &  0.518 &  1.887\\\\\n\tfactor(REGION)NORTHEAST &  0.605 &  2.099\\\\\n\tfactor(REGION)SOUTH &  0.332 &  1.355\\\\\n\tfactor(EDUC)COLLEGE &  0.068 &  0.255\\\\\n\tfactor(EDUC)HIGHSCH &  0.005 &  0.025\\\\\n\tfactor(PHSTAT)FAIR &  0.115 &  0.321\\\\\n\tfactor(PHSTAT)GOOD &  0.371 &  1.409\\\\\n\tfactor(PHSTAT)POOR &  1.668 &  4.524\\\\\n\tfactor(PHSTAT)VGOO &  0.175 &  0.654\\\\\n\tANYLIMIT &  0.554 &  2.651\\\\\n\tfactor(INCOME)HINCOME & -0.911 & -3.082\\\\\n\tfactor(INCOME)LINCOME & -0.404 & -1.431\\\\\n\tfactor(INCOME)MINCOME & -0.600 & -2.288\\\\\n\tfactor(INCOME)NPOOR & -0.199 & -0.522\\\\\n\tinsure &  1.232 &  4.041\\\\\n\\end{tabular}\n",
            "text/plain": [
              "                        Estimate z value\n",
              "(Intercept)             -4.239   -8.981 \n",
              "AGE                     -0.001   -0.170 \n",
              "GENDER                   0.734    3.815 \n",
              "factor(RACE)ASIAN       -0.222   -0.417 \n",
              "factor(RACE)BLACK       -0.004   -0.017 \n",
              "factor(RACE)NATIV        0.602    0.913 \n",
              "factor(RACE)OTHER       -0.215   -0.320 \n",
              "factor(REGION)MIDWEST    0.518    1.887 \n",
              "factor(REGION)NORTHEAST  0.605    2.099 \n",
              "factor(REGION)SOUTH      0.332    1.355 \n",
              "factor(EDUC)COLLEGE      0.068    0.255 \n",
              "factor(EDUC)HIGHSCH      0.005    0.025 \n",
              "factor(PHSTAT)FAIR       0.115    0.321 \n",
              "factor(PHSTAT)GOOD       0.371    1.409 \n",
              "factor(PHSTAT)POOR       1.668    4.524 \n",
              "factor(PHSTAT)VGOO       0.175    0.654 \n",
              "ANYLIMIT                 0.554    2.651 \n",
              "factor(INCOME)HINCOME   -0.911   -3.082 \n",
              "factor(INCOME)LINCOME   -0.404   -1.431 \n",
              "factor(INCOME)MINCOME   -0.600   -2.288 \n",
              "factor(INCOME)NPOOR     -0.199   -0.522 \n",
              "insure                   1.232    4.041 "
            ]
          },
          "metadata": {}
        }
      ]
    },
    {
      "cell_type": "markdown",
      "source": [
        "Here is a reduced model with a few variables removed."
      ],
      "metadata": {
        "id": "gr4-_A_cS49Y"
      }
    },
    {
      "cell_type": "code",
      "source": [
        "# REDUCED LOGIT MODEL;\n",
        "PosExpglmRed = glm(POSEXP~GENDER + factor(RACE) +\n",
        "        +factor(REGION)+factor(EDUC)\n",
        " +factor(PHSTAT)+ANYLIMIT+factor(INCOME)\n",
        " +insure, family=binomial(link=logit))\n",
        "#summary(PosExpglmRed)\n",
        "Table2 <- summary(PosExpglmRed)\n",
        "Table2Red <- round(Table2$coefficients[,c(1,3)], digits = 3)\n",
        "Table2Red\n",
        "anova(PosExpglmRed,PosExpglmFull, test=\"Chisq\")"
      ],
      "metadata": {
        "colab": {
          "base_uri": "https://localhost:8080/",
          "height": 869
        },
        "id": "CVTqL5HuSqW2",
        "outputId": "0230f59a-fa3f-4e7e-e200-2667bc04ef60"
      },
      "execution_count": null,
      "outputs": [
        {
          "output_type": "display_data",
          "data": {
            "text/html": [
              "<table class=\"dataframe\">\n",
              "<caption>A matrix: 21 × 2 of type dbl</caption>\n",
              "<thead>\n",
              "\t<tr><th></th><th scope=col>Estimate</th><th scope=col>z value</th></tr>\n",
              "</thead>\n",
              "<tbody>\n",
              "\t<tr><th scope=row>(Intercept)</th><td>-4.274</td><td>-10.082</td></tr>\n",
              "\t<tr><th scope=row>GENDER</th><td> 0.735</td><td>  3.817</td></tr>\n",
              "\t<tr><th scope=row>factor(RACE)ASIAN</th><td>-0.223</td><td> -0.418</td></tr>\n",
              "\t<tr><th scope=row>factor(RACE)BLACK</th><td>-0.002</td><td> -0.008</td></tr>\n",
              "\t<tr><th scope=row>factor(RACE)NATIV</th><td> 0.607</td><td>  0.920</td></tr>\n",
              "\t<tr><th scope=row>factor(RACE)OTHER</th><td>-0.214</td><td> -0.319</td></tr>\n",
              "\t<tr><th scope=row>factor(REGION)MIDWEST</th><td> 0.517</td><td>  1.882</td></tr>\n",
              "\t<tr><th scope=row>factor(REGION)NORTHEAST</th><td> 0.603</td><td>  2.092</td></tr>\n",
              "\t<tr><th scope=row>factor(REGION)SOUTH</th><td> 0.330</td><td>  1.348</td></tr>\n",
              "\t<tr><th scope=row>factor(EDUC)COLLEGE</th><td> 0.068</td><td>  0.253</td></tr>\n",
              "\t<tr><th scope=row>factor(EDUC)HIGHSCH</th><td> 0.005</td><td>  0.024</td></tr>\n",
              "\t<tr><th scope=row>factor(PHSTAT)FAIR</th><td> 0.108</td><td>  0.303</td></tr>\n",
              "\t<tr><th scope=row>factor(PHSTAT)GOOD</th><td> 0.366</td><td>  1.399</td></tr>\n",
              "\t<tr><th scope=row>factor(PHSTAT)POOR</th><td> 1.656</td><td>  4.583</td></tr>\n",
              "\t<tr><th scope=row>factor(PHSTAT)VGOO</th><td> 0.171</td><td>  0.644</td></tr>\n",
              "\t<tr><th scope=row>ANYLIMIT</th><td> 0.545</td><td>  2.702</td></tr>\n",
              "\t<tr><th scope=row>factor(INCOME)HINCOME</th><td>-0.920</td><td> -3.165</td></tr>\n",
              "\t<tr><th scope=row>factor(INCOME)LINCOME</th><td>-0.408</td><td> -1.448</td></tr>\n",
              "\t<tr><th scope=row>factor(INCOME)MINCOME</th><td>-0.604</td><td> -2.317</td></tr>\n",
              "\t<tr><th scope=row>factor(INCOME)NPOOR</th><td>-0.199</td><td> -0.522</td></tr>\n",
              "\t<tr><th scope=row>insure</th><td> 1.230</td><td>  4.037</td></tr>\n",
              "</tbody>\n",
              "</table>\n"
            ],
            "text/markdown": "\nA matrix: 21 × 2 of type dbl\n\n| <!--/--> | Estimate | z value |\n|---|---|---|\n| (Intercept) | -4.274 | -10.082 |\n| GENDER |  0.735 |   3.817 |\n| factor(RACE)ASIAN | -0.223 |  -0.418 |\n| factor(RACE)BLACK | -0.002 |  -0.008 |\n| factor(RACE)NATIV |  0.607 |   0.920 |\n| factor(RACE)OTHER | -0.214 |  -0.319 |\n| factor(REGION)MIDWEST |  0.517 |   1.882 |\n| factor(REGION)NORTHEAST |  0.603 |   2.092 |\n| factor(REGION)SOUTH |  0.330 |   1.348 |\n| factor(EDUC)COLLEGE |  0.068 |   0.253 |\n| factor(EDUC)HIGHSCH |  0.005 |   0.024 |\n| factor(PHSTAT)FAIR |  0.108 |   0.303 |\n| factor(PHSTAT)GOOD |  0.366 |   1.399 |\n| factor(PHSTAT)POOR |  1.656 |   4.583 |\n| factor(PHSTAT)VGOO |  0.171 |   0.644 |\n| ANYLIMIT |  0.545 |   2.702 |\n| factor(INCOME)HINCOME | -0.920 |  -3.165 |\n| factor(INCOME)LINCOME | -0.408 |  -1.448 |\n| factor(INCOME)MINCOME | -0.604 |  -2.317 |\n| factor(INCOME)NPOOR | -0.199 |  -0.522 |\n| insure |  1.230 |   4.037 |\n\n",
            "text/latex": "A matrix: 21 × 2 of type dbl\n\\begin{tabular}{r|ll}\n  & Estimate & z value\\\\\n\\hline\n\t(Intercept) & -4.274 & -10.082\\\\\n\tGENDER &  0.735 &   3.817\\\\\n\tfactor(RACE)ASIAN & -0.223 &  -0.418\\\\\n\tfactor(RACE)BLACK & -0.002 &  -0.008\\\\\n\tfactor(RACE)NATIV &  0.607 &   0.920\\\\\n\tfactor(RACE)OTHER & -0.214 &  -0.319\\\\\n\tfactor(REGION)MIDWEST &  0.517 &   1.882\\\\\n\tfactor(REGION)NORTHEAST &  0.603 &   2.092\\\\\n\tfactor(REGION)SOUTH &  0.330 &   1.348\\\\\n\tfactor(EDUC)COLLEGE &  0.068 &   0.253\\\\\n\tfactor(EDUC)HIGHSCH &  0.005 &   0.024\\\\\n\tfactor(PHSTAT)FAIR &  0.108 &   0.303\\\\\n\tfactor(PHSTAT)GOOD &  0.366 &   1.399\\\\\n\tfactor(PHSTAT)POOR &  1.656 &   4.583\\\\\n\tfactor(PHSTAT)VGOO &  0.171 &   0.644\\\\\n\tANYLIMIT &  0.545 &   2.702\\\\\n\tfactor(INCOME)HINCOME & -0.920 &  -3.165\\\\\n\tfactor(INCOME)LINCOME & -0.408 &  -1.448\\\\\n\tfactor(INCOME)MINCOME & -0.604 &  -2.317\\\\\n\tfactor(INCOME)NPOOR & -0.199 &  -0.522\\\\\n\tinsure &  1.230 &   4.037\\\\\n\\end{tabular}\n",
            "text/plain": [
              "                        Estimate z value\n",
              "(Intercept)             -4.274   -10.082\n",
              "GENDER                   0.735     3.817\n",
              "factor(RACE)ASIAN       -0.223    -0.418\n",
              "factor(RACE)BLACK       -0.002    -0.008\n",
              "factor(RACE)NATIV        0.607     0.920\n",
              "factor(RACE)OTHER       -0.214    -0.319\n",
              "factor(REGION)MIDWEST    0.517     1.882\n",
              "factor(REGION)NORTHEAST  0.603     2.092\n",
              "factor(REGION)SOUTH      0.330     1.348\n",
              "factor(EDUC)COLLEGE      0.068     0.253\n",
              "factor(EDUC)HIGHSCH      0.005     0.024\n",
              "factor(PHSTAT)FAIR       0.108     0.303\n",
              "factor(PHSTAT)GOOD       0.366     1.399\n",
              "factor(PHSTAT)POOR       1.656     4.583\n",
              "factor(PHSTAT)VGOO       0.171     0.644\n",
              "ANYLIMIT                 0.545     2.702\n",
              "factor(INCOME)HINCOME   -0.920    -3.165\n",
              "factor(INCOME)LINCOME   -0.408    -1.448\n",
              "factor(INCOME)MINCOME   -0.604    -2.317\n",
              "factor(INCOME)NPOOR     -0.199    -0.522\n",
              "insure                   1.230     4.037"
            ]
          },
          "metadata": {}
        },
        {
          "output_type": "display_data",
          "data": {
            "text/html": [
              "<table class=\"dataframe\">\n",
              "<caption>A anova: 2 × 5</caption>\n",
              "<thead>\n",
              "\t<tr><th></th><th scope=col>Resid. Df</th><th scope=col>Resid. Dev</th><th scope=col>Df</th><th scope=col>Deviance</th><th scope=col>Pr(&gt;Chi)</th></tr>\n",
              "\t<tr><th></th><th scope=col>&lt;dbl&gt;</th><th scope=col>&lt;dbl&gt;</th><th scope=col>&lt;dbl&gt;</th><th scope=col>&lt;dbl&gt;</th><th scope=col>&lt;dbl&gt;</th></tr>\n",
              "</thead>\n",
              "<tbody>\n",
              "\t<tr><th scope=row>1</th><td>1979</td><td>977</td><td>NA</td><td>    NA</td><td>   NA</td></tr>\n",
              "\t<tr><th scope=row>2</th><td>1978</td><td>977</td><td> 1</td><td>0.0291</td><td>0.865</td></tr>\n",
              "</tbody>\n",
              "</table>\n"
            ],
            "text/markdown": "\nA anova: 2 × 5\n\n| <!--/--> | Resid. Df &lt;dbl&gt; | Resid. Dev &lt;dbl&gt; | Df &lt;dbl&gt; | Deviance &lt;dbl&gt; | Pr(&gt;Chi) &lt;dbl&gt; |\n|---|---|---|---|---|---|\n| 1 | 1979 | 977 | NA |     NA |    NA |\n| 2 | 1978 | 977 |  1 | 0.0291 | 0.865 |\n\n",
            "text/latex": "A anova: 2 × 5\n\\begin{tabular}{r|lllll}\n  & Resid. Df & Resid. Dev & Df & Deviance & Pr(>Chi)\\\\\n  & <dbl> & <dbl> & <dbl> & <dbl> & <dbl>\\\\\n\\hline\n\t1 & 1979 & 977 & NA &     NA &    NA\\\\\n\t2 & 1978 & 977 &  1 & 0.0291 & 0.865\\\\\n\\end{tabular}\n",
            "text/plain": [
              "  Resid. Df Resid. Dev Df Deviance Pr(>Chi)\n",
              "1 1979      977        NA     NA      NA   \n",
              "2 1978      977         1 0.0291   0.865   "
            ]
          },
          "metadata": {}
        }
      ]
    },
    {
      "cell_type": "markdown",
      "source": [
        "The Tabla 11.5 summary in the book [Modelado de Regresión con Aplicaciones Actuariales y Financieras](https://openacttextdev.github.io/RegressionSpanish/C11Binary.html#S:Sec114) is a bit easier to read.\n",
        "\n",
        "#  Generalized Linear Models\n",
        "\n",
        "Let's first take a look at the distribution of expenditures.\n",
        "\n",
        "This is **Figure 13.1** of the book entitled *Smooth Empirical Histogram of Positive Inpatient Expenditures.* For visualization purposes, the largest expenditure is omitted."
      ],
      "metadata": {
        "id": "WsKZvz_mSOwD"
      }
    },
    {
      "cell_type": "code",
      "source": [
        "# TEMPORARILY REMOVE OBS # 58\n",
        "\n",
        "Hexpend58 <- subset(Hexpend, !(EXPENDIP>600000))\n",
        "plot(density(Hexpend58$EXPENDIP), main=\"\", xlab=\"Expenditures\")"
      ],
      "metadata": {
        "colab": {
          "base_uri": "https://localhost:8080/",
          "height": 437
        },
        "id": "JtsvCaHdZvzo",
        "outputId": "2e4e45eb-3697-4072-a829-f54467698f28"
      },
      "execution_count": null,
      "outputs": [
        {
          "output_type": "display_data",
          "data": {
            "text/plain": [
              "Plot with title “”"
            ],
            "image/png": "[encoded data removed]"
          },
          "metadata": {
            "image/png": {
              "width": 420,
              "height": 420
            }
          }
        }
      ]
    },
    {
      "cell_type": "markdown",
      "source": [
        "Now we examine the median by level of covariates, to try to understand which features might be important determinants of expenditures."
      ],
      "metadata": {
        "id": "rmKMyNZzZxSi"
      }
    },
    {
      "cell_type": "code",
      "source": [
        "#install.packages(\"doBy\")\n",
        "#library(doBy)\n",
        "#  Table 13.5\n",
        "#Hexpend$POSEXP <- 1*(Hexpend$EXPENDIP>0)\n",
        "HexpendPos  <- subset(Hexpend, EXPENDIP > 0)\n",
        "\n",
        "#  CREATE A SHORT FUNCTION TO SAVE WORK\n",
        "fun2 <- function(group_var, summary_vars){\n",
        "    # Convert group_var and summary_vars to character if they are not\n",
        "  group_var <- as.character(substitute(group_var))\n",
        "  summary_vars <- as.character(substitute(summary_vars))\n",
        "temp <- doBy::summaryBy(\n",
        "  formula = as.formula(paste(summary_vars, \"~\", group_var)),\n",
        "        data = HexpendPos,\n",
        "           FUN = function(x) { c(m = median(x), num = length(x)) } )\n",
        "temp1 <- temp[,c(1,3,2)]\n",
        "temp1[,2] <- round(100*temp1[,2]/length(HexpendPos$EXPENDIP), digits=1)\n",
        "colnames(temp1) <- NULL\n",
        "temp1[,1] <- as.character(temp1[,1])\n",
        "return(as.matrix(temp1) )\n",
        "}\n",
        "\n",
        "var1 <- fun2(GENDER,EXPENDIP)\n",
        "var2 <- fun2(RACE,EXPENDIP)\n",
        "var3 <- fun2(REGION,EXPENDIP)\n",
        "var4 <- fun2(EDUC,EXPENDIP)\n",
        "var5 <- fun2(PHSTAT,EXPENDIP)\n",
        "#var6 <- fun2(MPOOR,EXPENDIP)\n",
        "var7 <- fun2(ANYLIMIT,EXPENDIP)\n",
        "var8 <- fun2(INCOME,EXPENDIP)\n",
        "var9 <- fun2(insure,EXPENDIP)\n",
        "\n",
        "tableout <- rbind(var1, var2, var3, var4,\n",
        "                  var5, var7, var8, var9)\n",
        "tableout\n",
        "#TableGen1(TableData=tableout,\n",
        "#         TextTitle='Median Expenditures by Explanatory Variable  Based on a Sample of $n=157$ with Positive Expenditures',\n",
        "#         Align='crr', ColumnSpec=1:3, ColWidth = ColWidth4 )"
      ],
      "metadata": {
        "colab": {
          "base_uri": "https://localhost:8080/",
          "height": 913
        },
        "id": "QvjOr7-hSmxS",
        "outputId": "beaeb894-e2dc-49b0-a022-3411ec629f34"
      },
      "execution_count": null,
      "outputs": [
        {
          "output_type": "display_data",
          "data": {
            "text/html": [
              "<table class=\"dataframe\">\n",
              "<caption>A matrix: 28 × 3 of type chr</caption>\n",
              "<tbody>\n",
              "\t<tr><th scope=row>1</th><td>0        </td><td>28  </td><td>7313 </td></tr>\n",
              "\t<tr><th scope=row>2</th><td>1        </td><td>72  </td><td>5546 </td></tr>\n",
              "\t<tr><th scope=row>1</th><td>ASIAN    </td><td> 2.5</td><td>4003 </td></tr>\n",
              "\t<tr><th scope=row>2</th><td>BLACK    </td><td>19.7</td><td>6100 </td></tr>\n",
              "\t<tr><th scope=row>3</th><td>NATIV    </td><td> 1.9</td><td>2310 </td></tr>\n",
              "\t<tr><th scope=row>4</th><td>OTHER    </td><td> 1.9</td><td>4051 </td></tr>\n",
              "\t<tr><th scope=row>5</th><td>WHITE    </td><td>73.9</td><td>5725 </td></tr>\n",
              "\t<tr><th scope=row>1</th><td>MIDWEST  </td><td>21.7</td><td>7999 </td></tr>\n",
              "\t<tr><th scope=row>2</th><td>NORTHEAST</td><td>18.5</td><td>5833 </td></tr>\n",
              "\t<tr><th scope=row>3</th><td>SOUTH    </td><td>40.8</td><td>5595 </td></tr>\n",
              "\t<tr><th scope=row>4</th><td>WEST     </td><td>19.1</td><td>4297 </td></tr>\n",
              "\t<tr><th scope=row>1</th><td>COLLEGE  </td><td>23.6</td><td>5611 </td></tr>\n",
              "\t<tr><th scope=row>2</th><td>HIGHSCH  </td><td>43.3</td><td>5907 </td></tr>\n",
              "\t<tr><th scope=row>3</th><td>LHIGHSC  </td><td>33.1</td><td>5338 </td></tr>\n",
              "\t<tr><th scope=row>1</th><td>EXCE     </td><td>16.6</td><td> 5277</td></tr>\n",
              "\t<tr><th scope=row>2</th><td>FAIR     </td><td>10.2</td><td> 5228</td></tr>\n",
              "\t<tr><th scope=row>3</th><td>GOOD     </td><td>31.2</td><td> 5032</td></tr>\n",
              "\t<tr><th scope=row>4</th><td>POOR     </td><td>17.2</td><td>10447</td></tr>\n",
              "\t<tr><th scope=row>5</th><td>VGOO     </td><td>24.8</td><td> 5546</td></tr>\n",
              "\t<tr><th scope=row>1</th><td>0        </td><td>58.6</td><td>4746 </td></tr>\n",
              "\t<tr><th scope=row>2</th><td>1        </td><td>41.4</td><td>7826 </td></tr>\n",
              "\t<tr><th scope=row>1</th><td>HINCOME  </td><td>21.7</td><td>7271 </td></tr>\n",
              "\t<tr><th scope=row>2</th><td>LINCOME  </td><td>16.6</td><td>6909 </td></tr>\n",
              "\t<tr><th scope=row>3</th><td>MINCOME  </td><td>26.8</td><td>5851 </td></tr>\n",
              "\t<tr><th scope=row>4</th><td>NPOOR    </td><td> 7.0</td><td>5546 </td></tr>\n",
              "\t<tr><th scope=row>5</th><td>POOR     </td><td>28.0</td><td>4097 </td></tr>\n",
              "\t<tr><th scope=row>1</th><td>0        </td><td> 8.9</td><td>2668 </td></tr>\n",
              "\t<tr><th scope=row>2</th><td>1        </td><td>91.1</td><td>5943 </td></tr>\n",
              "</tbody>\n",
              "</table>\n"
            ],
            "text/markdown": "\nA matrix: 28 × 3 of type chr\n\n| 1 | 0         | 28   | 7313  |\n| 2 | 1         | 72   | 5546  |\n| 1 | ASIAN     |  2.5 | 4003  |\n| 2 | BLACK     | 19.7 | 6100  |\n| 3 | NATIV     |  1.9 | 2310  |\n| 4 | OTHER     |  1.9 | 4051  |\n| 5 | WHITE     | 73.9 | 5725  |\n| 1 | MIDWEST   | 21.7 | 7999  |\n| 2 | NORTHEAST | 18.5 | 5833  |\n| 3 | SOUTH     | 40.8 | 5595  |\n| 4 | WEST      | 19.1 | 4297  |\n| 1 | COLLEGE   | 23.6 | 5611  |\n| 2 | HIGHSCH   | 43.3 | 5907  |\n| 3 | LHIGHSC   | 33.1 | 5338  |\n| 1 | EXCE      | 16.6 |  5277 |\n| 2 | FAIR      | 10.2 |  5228 |\n| 3 | GOOD      | 31.2 |  5032 |\n| 4 | POOR      | 17.2 | 10447 |\n| 5 | VGOO      | 24.8 |  5546 |\n| 1 | 0         | 58.6 | 4746  |\n| 2 | 1         | 41.4 | 7826  |\n| 1 | HINCOME   | 21.7 | 7271  |\n| 2 | LINCOME   | 16.6 | 6909  |\n| 3 | MINCOME   | 26.8 | 5851  |\n| 4 | NPOOR     |  7.0 | 5546  |\n| 5 | POOR      | 28.0 | 4097  |\n| 1 | 0         |  8.9 | 2668  |\n| 2 | 1         | 91.1 | 5943  |\n\n",
            "text/latex": "A matrix: 28 × 3 of type chr\n\\begin{tabular}{r|lll}\n\t1 & 0         & 28   & 7313 \\\\\n\t2 & 1         & 72   & 5546 \\\\\n\t1 & ASIAN     &  2.5 & 4003 \\\\\n\t2 & BLACK     & 19.7 & 6100 \\\\\n\t3 & NATIV     &  1.9 & 2310 \\\\\n\t4 & OTHER     &  1.9 & 4051 \\\\\n\t5 & WHITE     & 73.9 & 5725 \\\\\n\t1 & MIDWEST   & 21.7 & 7999 \\\\\n\t2 & NORTHEAST & 18.5 & 5833 \\\\\n\t3 & SOUTH     & 40.8 & 5595 \\\\\n\t4 & WEST      & 19.1 & 4297 \\\\\n\t1 & COLLEGE   & 23.6 & 5611 \\\\\n\t2 & HIGHSCH   & 43.3 & 5907 \\\\\n\t3 & LHIGHSC   & 33.1 & 5338 \\\\\n\t1 & EXCE      & 16.6 &  5277\\\\\n\t2 & FAIR      & 10.2 &  5228\\\\\n\t3 & GOOD      & 31.2 &  5032\\\\\n\t4 & POOR      & 17.2 & 10447\\\\\n\t5 & VGOO      & 24.8 &  5546\\\\\n\t1 & 0         & 58.6 & 4746 \\\\\n\t2 & 1         & 41.4 & 7826 \\\\\n\t1 & HINCOME   & 21.7 & 7271 \\\\\n\t2 & LINCOME   & 16.6 & 6909 \\\\\n\t3 & MINCOME   & 26.8 & 5851 \\\\\n\t4 & NPOOR     &  7.0 & 5546 \\\\\n\t5 & POOR      & 28.0 & 4097 \\\\\n\t1 & 0         &  8.9 & 2668 \\\\\n\t2 & 1         & 91.1 & 5943 \\\\\n\\end{tabular}\n",
            "text/plain": [
              "  [,1]      [,2] [,3] \n",
              "1 0         28   7313 \n",
              "2 1         72   5546 \n",
              "1 ASIAN      2.5 4003 \n",
              "2 BLACK     19.7 6100 \n",
              "3 NATIV      1.9 2310 \n",
              "4 OTHER      1.9 4051 \n",
              "5 WHITE     73.9 5725 \n",
              "1 MIDWEST   21.7 7999 \n",
              "2 NORTHEAST 18.5 5833 \n",
              "3 SOUTH     40.8 5595 \n",
              "4 WEST      19.1 4297 \n",
              "1 COLLEGE   23.6 5611 \n",
              "2 HIGHSCH   43.3 5907 \n",
              "3 LHIGHSC   33.1 5338 \n",
              "1 EXCE      16.6  5277\n",
              "2 FAIR      10.2  5228\n",
              "3 GOOD      31.2  5032\n",
              "4 POOR      17.2 10447\n",
              "5 VGOO      24.8  5546\n",
              "1 0         58.6 4746 \n",
              "2 1         41.4 7826 \n",
              "1 HINCOME   21.7 7271 \n",
              "2 LINCOME   16.6 6909 \n",
              "3 MINCOME   26.8 5851 \n",
              "4 NPOOR      7.0 5546 \n",
              "5 POOR      28.0 4097 \n",
              "1 0          8.9 2668 \n",
              "2 1         91.1 5943 "
            ]
          },
          "metadata": {}
        }
      ]
    },
    {
      "cell_type": "markdown",
      "source": [
        "Here is the fit of a gamma regression model with all variables."
      ],
      "metadata": {
        "id": "5Ijm3sLvX5CB"
      }
    },
    {
      "cell_type": "code",
      "source": [
        "#  Table 13.6\n",
        "HexpendPos  <- subset(Hexpend, EXPENDIP > 0)\n",
        "\n",
        "#  MODEL WITH ALL VARIABLES\n",
        "#  HAD TO INCREASE THE DEFAULT NUMBER OF ITERATIONS FOR CONVERGENCE\n",
        "model1 = glm(EXPENDIP~COUNTIP+AGE+GENDER\n",
        "    +factor(RACE)+factor(REGION)+factor(EDUC)+factor(PHSTAT)\n",
        "    +MNHPOOR+ANYLIMIT+factor(INCOME)+insure,\n",
        "    control = glm.control(maxit = 50),\n",
        "    data=HexpendPos,family=Gamma(link=\"log\"))\n",
        "output1 <- summary(model1 )\n",
        "tidy_model <- broom::tidy(model1)\n",
        "tidy_model\n"
      ],
      "metadata": {
        "colab": {
          "base_uri": "https://localhost:8080/",
          "height": 851
        },
        "id": "BYItVDvnXnsz",
        "outputId": "8e6a704d-dac2-452f-b5b3-27d705404928"
      },
      "execution_count": null,
      "outputs": [
        {
          "output_type": "display_data",
          "data": {
            "text/html": [
              "<table class=\"dataframe\">\n",
              "<caption>A tibble: 24 × 5</caption>\n",
              "<thead>\n",
              "\t<tr><th scope=col>term</th><th scope=col>estimate</th><th scope=col>std.error</th><th scope=col>statistic</th><th scope=col>p.value</th></tr>\n",
              "\t<tr><th scope=col>&lt;chr&gt;</th><th scope=col>&lt;dbl&gt;</th><th scope=col>&lt;dbl&gt;</th><th scope=col>&lt;dbl&gt;</th><th scope=col>&lt;dbl&gt;</th></tr>\n",
              "</thead>\n",
              "<tbody>\n",
              "\t<tr><td>(Intercept)            </td><td> 6.21093</td><td>0.66412</td><td> 9.3521</td><td>2.75e-16</td></tr>\n",
              "\t<tr><td>COUNTIP                </td><td> 0.68207</td><td>0.09361</td><td> 7.2866</td><td>2.53e-11</td></tr>\n",
              "\t<tr><td>AGE                    </td><td> 0.02057</td><td>0.00688</td><td> 2.9890</td><td>3.34e-03</td></tr>\n",
              "\t<tr><td>GENDER                 </td><td>-0.23783</td><td>0.17207</td><td>-1.3822</td><td>1.69e-01</td></tr>\n",
              "\t<tr><td>factor(RACE)BLACK      </td><td> 0.18240</td><td>0.51238</td><td> 0.3560</td><td>7.22e-01</td></tr>\n",
              "\t<tr><td>factor(RACE)NATIV      </td><td>-0.69740</td><td>0.73213</td><td>-0.9526</td><td>3.43e-01</td></tr>\n",
              "\t<tr><td>factor(RACE)OTHER      </td><td> 0.72636</td><td>0.70706</td><td> 1.0273</td><td>3.06e-01</td></tr>\n",
              "\t<tr><td>factor(RACE)WHITE      </td><td> 0.51295</td><td>0.48134</td><td> 1.0657</td><td>2.89e-01</td></tr>\n",
              "\t<tr><td>factor(REGION)NORTHEAST</td><td>-0.62758</td><td>0.23754</td><td>-2.6420</td><td>9.23e-03</td></tr>\n",
              "\t<tr><td>factor(REGION)SOUTH    </td><td>-0.25598</td><td>0.19873</td><td>-1.2881</td><td>2.00e-01</td></tr>\n",
              "\t<tr><td>factor(REGION)WEST     </td><td>-0.26085</td><td>0.23334</td><td>-1.1179</td><td>2.66e-01</td></tr>\n",
              "\t<tr><td>factor(EDUC)HIGHSCH    </td><td> 0.26118</td><td>0.19254</td><td> 1.3565</td><td>1.77e-01</td></tr>\n",
              "\t<tr><td>factor(EDUC)LHIGHSC    </td><td> 0.41110</td><td>0.22486</td><td> 1.8282</td><td>6.98e-02</td></tr>\n",
              "\t<tr><td>factor(PHSTAT)FAIR     </td><td>-0.16468</td><td>0.31435</td><td>-0.5239</td><td>6.01e-01</td></tr>\n",
              "\t<tr><td>factor(PHSTAT)GOOD     </td><td> 0.06266</td><td>0.22700</td><td> 0.2760</td><td>7.83e-01</td></tr>\n",
              "\t<tr><td>factor(PHSTAT)POOR     </td><td> 0.02635</td><td>0.29817</td><td> 0.0884</td><td>9.30e-01</td></tr>\n",
              "\t<tr><td>factor(PHSTAT)VGOO     </td><td> 0.01808</td><td>0.23706</td><td> 0.0763</td><td>9.39e-01</td></tr>\n",
              "\t<tr><td>MNHPOOR                </td><td>-0.39677</td><td>0.23838</td><td>-1.6644</td><td>9.84e-02</td></tr>\n",
              "\t<tr><td>ANYLIMIT               </td><td>-0.00578</td><td>0.18876</td><td>-0.0306</td><td>9.76e-01</td></tr>\n",
              "\t<tr><td>factor(INCOME)LINCOME  </td><td> 0.55104</td><td>0.25662</td><td> 2.1473</td><td>3.36e-02</td></tr>\n",
              "\t<tr><td>factor(INCOME)MINCOME  </td><td> 0.12269</td><td>0.21059</td><td> 0.5826</td><td>5.61e-01</td></tr>\n",
              "\t<tr><td>factor(INCOME)NPOOR    </td><td> 0.46314</td><td>0.35409</td><td> 1.3080</td><td>1.93e-01</td></tr>\n",
              "\t<tr><td>factor(INCOME)POOR     </td><td>-0.06846</td><td>0.25079</td><td>-0.2730</td><td>7.85e-01</td></tr>\n",
              "\t<tr><td>insure                 </td><td> 0.78887</td><td>0.25717</td><td> 3.0675</td><td>2.62e-03</td></tr>\n",
              "</tbody>\n",
              "</table>\n"
            ],
            "text/markdown": "\nA tibble: 24 × 5\n\n| term &lt;chr&gt; | estimate &lt;dbl&gt; | std.error &lt;dbl&gt; | statistic &lt;dbl&gt; | p.value &lt;dbl&gt; |\n|---|---|---|---|---|\n| (Intercept)             |  6.21093 | 0.66412 |  9.3521 | 2.75e-16 |\n| COUNTIP                 |  0.68207 | 0.09361 |  7.2866 | 2.53e-11 |\n| AGE                     |  0.02057 | 0.00688 |  2.9890 | 3.34e-03 |\n| GENDER                  | -0.23783 | 0.17207 | -1.3822 | 1.69e-01 |\n| factor(RACE)BLACK       |  0.18240 | 0.51238 |  0.3560 | 7.22e-01 |\n| factor(RACE)NATIV       | -0.69740 | 0.73213 | -0.9526 | 3.43e-01 |\n| factor(RACE)OTHER       |  0.72636 | 0.70706 |  1.0273 | 3.06e-01 |\n| factor(RACE)WHITE       |  0.51295 | 0.48134 |  1.0657 | 2.89e-01 |\n| factor(REGION)NORTHEAST | -0.62758 | 0.23754 | -2.6420 | 9.23e-03 |\n| factor(REGION)SOUTH     | -0.25598 | 0.19873 | -1.2881 | 2.00e-01 |\n| factor(REGION)WEST      | -0.26085 | 0.23334 | -1.1179 | 2.66e-01 |\n| factor(EDUC)HIGHSCH     |  0.26118 | 0.19254 |  1.3565 | 1.77e-01 |\n| factor(EDUC)LHIGHSC     |  0.41110 | 0.22486 |  1.8282 | 6.98e-02 |\n| factor(PHSTAT)FAIR      | -0.16468 | 0.31435 | -0.5239 | 6.01e-01 |\n| factor(PHSTAT)GOOD      |  0.06266 | 0.22700 |  0.2760 | 7.83e-01 |\n| factor(PHSTAT)POOR      |  0.02635 | 0.29817 |  0.0884 | 9.30e-01 |\n| factor(PHSTAT)VGOO      |  0.01808 | 0.23706 |  0.0763 | 9.39e-01 |\n| MNHPOOR                 | -0.39677 | 0.23838 | -1.6644 | 9.84e-02 |\n| ANYLIMIT                | -0.00578 | 0.18876 | -0.0306 | 9.76e-01 |\n| factor(INCOME)LINCOME   |  0.55104 | 0.25662 |  2.1473 | 3.36e-02 |\n| factor(INCOME)MINCOME   |  0.12269 | 0.21059 |  0.5826 | 5.61e-01 |\n| factor(INCOME)NPOOR     |  0.46314 | 0.35409 |  1.3080 | 1.93e-01 |\n| factor(INCOME)POOR      | -0.06846 | 0.25079 | -0.2730 | 7.85e-01 |\n| insure                  |  0.78887 | 0.25717 |  3.0675 | 2.62e-03 |\n\n",
            "text/latex": "A tibble: 24 × 5\n\\begin{tabular}{lllll}\n term & estimate & std.error & statistic & p.value\\\\\n <chr> & <dbl> & <dbl> & <dbl> & <dbl>\\\\\n\\hline\n\t (Intercept)             &  6.21093 & 0.66412 &  9.3521 & 2.75e-16\\\\\n\t COUNTIP                 &  0.68207 & 0.09361 &  7.2866 & 2.53e-11\\\\\n\t AGE                     &  0.02057 & 0.00688 &  2.9890 & 3.34e-03\\\\\n\t GENDER                  & -0.23783 & 0.17207 & -1.3822 & 1.69e-01\\\\\n\t factor(RACE)BLACK       &  0.18240 & 0.51238 &  0.3560 & 7.22e-01\\\\\n\t factor(RACE)NATIV       & -0.69740 & 0.73213 & -0.9526 & 3.43e-01\\\\\n\t factor(RACE)OTHER       &  0.72636 & 0.70706 &  1.0273 & 3.06e-01\\\\\n\t factor(RACE)WHITE       &  0.51295 & 0.48134 &  1.0657 & 2.89e-01\\\\\n\t factor(REGION)NORTHEAST & -0.62758 & 0.23754 & -2.6420 & 9.23e-03\\\\\n\t factor(REGION)SOUTH     & -0.25598 & 0.19873 & -1.2881 & 2.00e-01\\\\\n\t factor(REGION)WEST      & -0.26085 & 0.23334 & -1.1179 & 2.66e-01\\\\\n\t factor(EDUC)HIGHSCH     &  0.26118 & 0.19254 &  1.3565 & 1.77e-01\\\\\n\t factor(EDUC)LHIGHSC     &  0.41110 & 0.22486 &  1.8282 & 6.98e-02\\\\\n\t factor(PHSTAT)FAIR      & -0.16468 & 0.31435 & -0.5239 & 6.01e-01\\\\\n\t factor(PHSTAT)GOOD      &  0.06266 & 0.22700 &  0.2760 & 7.83e-01\\\\\n\t factor(PHSTAT)POOR      &  0.02635 & 0.29817 &  0.0884 & 9.30e-01\\\\\n\t factor(PHSTAT)VGOO      &  0.01808 & 0.23706 &  0.0763 & 9.39e-01\\\\\n\t MNHPOOR                 & -0.39677 & 0.23838 & -1.6644 & 9.84e-02\\\\\n\t ANYLIMIT                & -0.00578 & 0.18876 & -0.0306 & 9.76e-01\\\\\n\t factor(INCOME)LINCOME   &  0.55104 & 0.25662 &  2.1473 & 3.36e-02\\\\\n\t factor(INCOME)MINCOME   &  0.12269 & 0.21059 &  0.5826 & 5.61e-01\\\\\n\t factor(INCOME)NPOOR     &  0.46314 & 0.35409 &  1.3080 & 1.93e-01\\\\\n\t factor(INCOME)POOR      & -0.06846 & 0.25079 & -0.2730 & 7.85e-01\\\\\n\t insure                  &  0.78887 & 0.25717 &  3.0675 & 2.62e-03\\\\\n\\end{tabular}\n",
            "text/plain": [
              "   term                    estimate std.error statistic p.value \n",
              "1  (Intercept)              6.21093 0.66412    9.3521   2.75e-16\n",
              "2  COUNTIP                  0.68207 0.09361    7.2866   2.53e-11\n",
              "3  AGE                      0.02057 0.00688    2.9890   3.34e-03\n",
              "4  GENDER                  -0.23783 0.17207   -1.3822   1.69e-01\n",
              "5  factor(RACE)BLACK        0.18240 0.51238    0.3560   7.22e-01\n",
              "6  factor(RACE)NATIV       -0.69740 0.73213   -0.9526   3.43e-01\n",
              "7  factor(RACE)OTHER        0.72636 0.70706    1.0273   3.06e-01\n",
              "8  factor(RACE)WHITE        0.51295 0.48134    1.0657   2.89e-01\n",
              "9  factor(REGION)NORTHEAST -0.62758 0.23754   -2.6420   9.23e-03\n",
              "10 factor(REGION)SOUTH     -0.25598 0.19873   -1.2881   2.00e-01\n",
              "11 factor(REGION)WEST      -0.26085 0.23334   -1.1179   2.66e-01\n",
              "12 factor(EDUC)HIGHSCH      0.26118 0.19254    1.3565   1.77e-01\n",
              "13 factor(EDUC)LHIGHSC      0.41110 0.22486    1.8282   6.98e-02\n",
              "14 factor(PHSTAT)FAIR      -0.16468 0.31435   -0.5239   6.01e-01\n",
              "15 factor(PHSTAT)GOOD       0.06266 0.22700    0.2760   7.83e-01\n",
              "16 factor(PHSTAT)POOR       0.02635 0.29817    0.0884   9.30e-01\n",
              "17 factor(PHSTAT)VGOO       0.01808 0.23706    0.0763   9.39e-01\n",
              "18 MNHPOOR                 -0.39677 0.23838   -1.6644   9.84e-02\n",
              "19 ANYLIMIT                -0.00578 0.18876   -0.0306   9.76e-01\n",
              "20 factor(INCOME)LINCOME    0.55104 0.25662    2.1473   3.36e-02\n",
              "21 factor(INCOME)MINCOME    0.12269 0.21059    0.5826   5.61e-01\n",
              "22 factor(INCOME)NPOOR      0.46314 0.35409    1.3080   1.93e-01\n",
              "23 factor(INCOME)POOR      -0.06846 0.25079   -0.2730   7.85e-01\n",
              "24 insure                   0.78887 0.25717    3.0675   2.62e-03"
            ]
          },
          "metadata": {}
        }
      ]
    },
    {
      "cell_type": "markdown",
      "source": [
        "With reduced variables."
      ],
      "metadata": {
        "id": "Hpvkjb9Ob_RK"
      }
    },
    {
      "cell_type": "code",
      "source": [
        "#  REDUCED MODEL\n",
        "HexpendPos$BLACK = (HexpendPos$RACE == \"BLACK\")\n",
        "HexpendPos$POOR = (HexpendPos$PHSTAT == \"POOR\")\n",
        "HexpendPos$POORNEG = (HexpendPos$INCOME == \"POOR\")\n",
        "model2 <- glm(EXPENDIP ~ COUNTIP + AGE + GENDER +\n",
        "    factor(BLACK) + factor(REGION) + factor(EDUC) + factor(POOR) +\n",
        "    MNHPOOR + ANYLIMIT + factor(POORNEG),\n",
        "    data=HexpendPos, family=Gamma(link=\"log\") )\n",
        "summary(model2)\n",
        "anova(model1, model2)"
      ],
      "metadata": {
        "colab": {
          "base_uri": "https://localhost:8080/",
          "height": 744
        },
        "id": "Ux4WP7QncCr6",
        "outputId": "095624d9-1838-4b48-fb62-c68b0116ba3c"
      },
      "execution_count": null,
      "outputs": [
        {
          "output_type": "display_data",
          "data": {
            "text/plain": [
              "\n",
              "Call:\n",
              "glm(formula = EXPENDIP ~ COUNTIP + AGE + GENDER + factor(BLACK) + \n",
              "    factor(REGION) + factor(EDUC) + factor(POOR) + MNHPOOR + \n",
              "    ANYLIMIT + factor(POORNEG), family = Gamma(link = \"log\"), \n",
              "    data = HexpendPos)\n",
              "\n",
              "Coefficients:\n",
              "                        Estimate Std. Error t value Pr(>|t|)    \n",
              "(Intercept)              7.83802    0.39992   19.60  < 2e-16 ***\n",
              "COUNTIP                  0.67226    0.09962    6.75  3.5e-10 ***\n",
              "AGE                      0.01531    0.00689    2.22   0.0280 *  \n",
              "GENDER                  -0.11842    0.18328   -0.65   0.5192    \n",
              "factor(BLACK)TRUE       -0.25770    0.20908   -1.23   0.2198    \n",
              "factor(REGION)NORTHEAST -0.66219    0.25185   -2.63   0.0095 ** \n",
              "factor(REGION)SOUTH     -0.34000    0.21269   -1.60   0.1121    \n",
              "factor(REGION)WEST      -0.44784    0.25101   -1.78   0.0765 .  \n",
              "factor(EDUC)HIGHSCH      0.25872    0.20498    1.26   0.2089    \n",
              "factor(EDUC)LHIGHSC      0.46874    0.23487    2.00   0.0479 *  \n",
              "factor(POOR)TRUE         0.16672    0.24508    0.68   0.4974    \n",
              "MNHPOOR                 -0.31436    0.24289   -1.29   0.1977    \n",
              "ANYLIMIT                 0.05161    0.19546    0.26   0.7921    \n",
              "factor(POORNEG)TRUE     -0.40561    0.20250   -2.00   0.0471 *  \n",
              "---\n",
              "Signif. codes:  0 ‘***’ 0.001 ‘**’ 0.01 ‘*’ 0.05 ‘.’ 0.1 ‘ ’ 1\n",
              "\n",
              "(Dispersion parameter for Gamma family taken to be 0.92)\n",
              "\n",
              "    Null deviance: 281.14  on 156  degrees of freedom\n",
              "Residual deviance: 137.88  on 143  degrees of freedom\n",
              "AIC: 3167\n",
              "\n",
              "Number of Fisher Scoring iterations: 12\n"
            ]
          },
          "metadata": {}
        },
        {
          "output_type": "display_data",
          "data": {
            "text/html": [
              "<table class=\"dataframe\">\n",
              "<caption>A anova: 2 × 6</caption>\n",
              "<thead>\n",
              "\t<tr><th></th><th scope=col>Resid. Df</th><th scope=col>Resid. Dev</th><th scope=col>Df</th><th scope=col>Deviance</th><th scope=col>F</th><th scope=col>Pr(&gt;F)</th></tr>\n",
              "\t<tr><th></th><th scope=col>&lt;dbl&gt;</th><th scope=col>&lt;dbl&gt;</th><th scope=col>&lt;dbl&gt;</th><th scope=col>&lt;dbl&gt;</th><th scope=col>&lt;dbl&gt;</th><th scope=col>&lt;dbl&gt;</th></tr>\n",
              "</thead>\n",
              "<tbody>\n",
              "\t<tr><th scope=row>1</th><td>133</td><td>124</td><td> NA</td><td>   NA</td><td>  NA</td><td>    NA</td></tr>\n",
              "\t<tr><th scope=row>2</th><td>143</td><td>138</td><td>-10</td><td>-13.9</td><td>1.85</td><td>0.0576</td></tr>\n",
              "</tbody>\n",
              "</table>\n"
            ],
            "text/markdown": "\nA anova: 2 × 6\n\n| <!--/--> | Resid. Df &lt;dbl&gt; | Resid. Dev &lt;dbl&gt; | Df &lt;dbl&gt; | Deviance &lt;dbl&gt; | F &lt;dbl&gt; | Pr(&gt;F) &lt;dbl&gt; |\n|---|---|---|---|---|---|---|\n| 1 | 133 | 124 |  NA |    NA |   NA |     NA |\n| 2 | 143 | 138 | -10 | -13.9 | 1.85 | 0.0576 |\n\n",
            "text/latex": "A anova: 2 × 6\n\\begin{tabular}{r|llllll}\n  & Resid. Df & Resid. Dev & Df & Deviance & F & Pr(>F)\\\\\n  & <dbl> & <dbl> & <dbl> & <dbl> & <dbl> & <dbl>\\\\\n\\hline\n\t1 & 133 & 124 &  NA &    NA &   NA &     NA\\\\\n\t2 & 143 & 138 & -10 & -13.9 & 1.85 & 0.0576\\\\\n\\end{tabular}\n",
            "text/plain": [
              "  Resid. Df Resid. Dev Df  Deviance F    Pr(>F)\n",
              "1 133       124         NA    NA      NA     NA\n",
              "2 143       138        -10 -13.9    1.85 0.0576"
            ]
          },
          "metadata": {}
        }
      ]
    },
    {
      "cell_type": "code",
      "source": [
        "#Hexpend58 <- subset(HexpendPos, !(EXPENDIP>600000))\n",
        "#  REDUCED MODEL - INVERSE GAUSSIAN\n",
        "#  DOES NOT WANT TO CONVERGE !!\n",
        "# model3 <- glm(EXPENDIP ~ COUNTIP + AGE + GENDER +\n",
        "#     factor(BLACK) + factor(REGION) + factor(EDUC) + factor(POOR) +\n",
        "#     MNHPOOR + ANYLIMIT + factor(POORNEG),  control = glm.control(maxit = 100),\n",
        "#     data=Hexpend58, family=inverse.gaussian(link = \"log\") )\n",
        "# summary(model3)\n",
        "#   ALSO PROBLEMS WITH family=inverse.gaussian(link = \"1/mu^2\")"
      ],
      "metadata": {
        "id": "6dfpC9c8dffE"
      },
      "execution_count": null,
      "outputs": []
    }
  ]
}