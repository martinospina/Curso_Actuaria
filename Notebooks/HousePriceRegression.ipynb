{
  "cells": [
    {
      "cell_type": "markdown",
      "metadata": {
        "id": "Mc-GaOfSWONf"
      },
      "source": [
        "# Seattle House Data\n",
        "\n",
        "## Abstract\n",
        "\n",
        "This tutorial shows how to fit a regression model using Python code. After examining the data, the first part fits a model using the *sklearn* package. Then, we use the *keras* package to fit an artificial  neural network.\n",
        "\n",
        "<table align=\"left\">\n",
        "  <td>\n",
        "    <a href=\"https://colab.research.google.com/github/OpenActTextDev/ActuarialRegression/blob/main/Notebooks/HousePriceRegression.ipynb\" target=\"_parent\"><img src=\"https://colab.research.google.com/assets/colab-badge.svg\" alt=\"Open In Colab\"/></a>\n",
        "  </td>\n",
        "</table>\n",
        " <br><br>\n",
        "\n",
        "\n",
        "## Import and Describe the Data\n",
        "\n",
        "We start by importing all of the packages needed for this tutorial. To show where they are required, we include them as comments."
      ]
    },
    {
      "cell_type": "code",
      "execution_count": null,
      "metadata": {
        "id": "sDOmiB33Wb9j"
      },
      "outputs": [],
      "source": [
        "import pandas as pd\n",
        "import matplotlib.pyplot as plt\n",
        "import numpy as np\n",
        "from sklearn.model_selection import train_test_split\n",
        "import statsmodels.api as sm\n",
        "from sklearn.linear_model import LinearRegression\n",
        "from sklearn.metrics import r2_score\n",
        "from sklearn.metrics import mean_squared_error as mse\n",
        "import random\n",
        "\n",
        "from keras.models import Sequential\n",
        "from keras.layers import Dense, Input\n",
        "from sklearn.preprocessing import StandardScaler, MinMaxScaler\n",
        "from keras.layers import Dense, Dropout, Input\n",
        "from keras.callbacks import EarlyStopping\n"
      ]
    },
    {
      "cell_type": "markdown",
      "metadata": {
        "id": "edcrlJyk8MJm"
      },
      "source": [
        "## The Data\n",
        "\n",
        "These data come  from a [Kaggle competition](https://www.kaggle.com/datasets/harlfoxem/housesalesprediction).\n",
        "\n",
        "This dataset contains house sale prices for King County, which includes Seattle. It includes homes sold between May 2014 and May 2015.\n",
        "\n",
        "We start by reading in and checking the data."
      ]
    },
    {
      "cell_type": "code",
      "execution_count": null,
      "metadata": {
        "colab": {
          "base_uri": "https://localhost:8080/",
          "height": 255
        },
        "id": "pvQuzCFzVJ1p",
        "outputId": "5cfc8b8e-8188-4e8b-b3aa-1029bd5fa46b"
      },
      "outputs": [
        {
          "output_type": "execute_result",
          "data": {
            "text/plain": [
              "           id             date     price  bedrooms  bathrooms  sqft_living  \\\n",
              "0  7129300520  20141013T000000  221900.0         3       1.00         1180   \n",
              "1  6414100192  20141209T000000  538000.0         3       2.25         2570   \n",
              "2  5631500400  20150225T000000  180000.0         2       1.00          770   \n",
              "3  2487200875  20141209T000000  604000.0         4       3.00         1960   \n",
              "4  1954400510  20150218T000000  510000.0         3       2.00         1680   \n",
              "\n",
              "   sqft_lot  floors  waterfront  view  ...  grade  sqft_above  sqft_basement  \\\n",
              "0      5650     1.0           0     0  ...      7        1180              0   \n",
              "1      7242     2.0           0     0  ...      7        2170            400   \n",
              "2     10000     1.0           0     0  ...      6         770              0   \n",
              "3      5000     1.0           0     0  ...      7        1050            910   \n",
              "4      8080     1.0           0     0  ...      8        1680              0   \n",
              "\n",
              "   yr_built  yr_renovated  zipcode      lat     long  sqft_living15  \\\n",
              "0      1955             0    98178  47.5112 -122.257           1340   \n",
              "1      1951          1991    98125  47.7210 -122.319           1690   \n",
              "2      1933             0    98028  47.7379 -122.233           2720   \n",
              "3      1965             0    98136  47.5208 -122.393           1360   \n",
              "4      1987             0    98074  47.6168 -122.045           1800   \n",
              "\n",
              "   sqft_lot15  \n",
              "0        5650  \n",
              "1        7639  \n",
              "2        8062  \n",
              "3        5000  \n",
              "4        7503  \n",
              "\n",
              "[5 rows x 21 columns]"
            ],
            "text/html": [
              "\n",
              "  <div id=\"df-5b4e3f3e-e9eb-4692-a659-b26a10d87236\" class=\"colab-df-container\">\n",
              "    <div>\n",
              "<style scoped>\n",
              "    .dataframe tbody tr th:only-of-type {\n",
              "        vertical-align: middle;\n",
              "    }\n",
              "\n",
              "    .dataframe tbody tr th {\n",
              "        vertical-align: top;\n",
              "    }\n",
              "\n",
              "    .dataframe thead th {\n",
              "        text-align: right;\n",
              "    }\n",
              "</style>\n",
              "<table border=\"1\" class=\"dataframe\">\n",
              "  <thead>\n",
              "    <tr style=\"text-align: right;\">\n",
              "      <th></th>\n",
              "      <th>id</th>\n",
              "      <th>date</th>\n",
              "      <th>price</th>\n",
              "      <th>bedrooms</th>\n",
              "      <th>bathrooms</th>\n",
              "      <th>sqft_living</th>\n",
              "      <th>sqft_lot</th>\n",
              "      <th>floors</th>\n",
              "      <th>waterfront</th>\n",
              "      <th>view</th>\n",
              "      <th>...</th>\n",
              "      <th>grade</th>\n",
              "      <th>sqft_above</th>\n",
              "      <th>sqft_basement</th>\n",
              "      <th>yr_built</th>\n",
              "      <th>yr_renovated</th>\n",
              "      <th>zipcode</th>\n",
              "      <th>lat</th>\n",
              "      <th>long</th>\n",
              "      <th>sqft_living15</th>\n",
              "      <th>sqft_lot15</th>\n",
              "    </tr>\n",
              "  </thead>\n",
              "  <tbody>\n",
              "    <tr>\n",
              "      <th>0</th>\n",
              "      <td>7129300520</td>\n",
              "      <td>20141013T000000</td>\n",
              "      <td>221900.0</td>\n",
              "      <td>3</td>\n",
              "      <td>1.00</td>\n",
              "      <td>1180</td>\n",
              "      <td>5650</td>\n",
              "      <td>1.0</td>\n",
              "      <td>0</td>\n",
              "      <td>0</td>\n",
              "      <td>...</td>\n",
              "      <td>7</td>\n",
              "      <td>1180</td>\n",
              "      <td>0</td>\n",
              "      <td>1955</td>\n",
              "      <td>0</td>\n",
              "      <td>98178</td>\n",
              "      <td>47.5112</td>\n",
              "      <td>-122.257</td>\n",
              "      <td>1340</td>\n",
              "      <td>5650</td>\n",
              "    </tr>\n",
              "    <tr>\n",
              "      <th>1</th>\n",
              "      <td>6414100192</td>\n",
              "      <td>20141209T000000</td>\n",
              "      <td>538000.0</td>\n",
              "      <td>3</td>\n",
              "      <td>2.25</td>\n",
              "      <td>2570</td>\n",
              "      <td>7242</td>\n",
              "      <td>2.0</td>\n",
              "      <td>0</td>\n",
              "      <td>0</td>\n",
              "      <td>...</td>\n",
              "      <td>7</td>\n",
              "      <td>2170</td>\n",
              "      <td>400</td>\n",
              "      <td>1951</td>\n",
              "      <td>1991</td>\n",
              "      <td>98125</td>\n",
              "      <td>47.7210</td>\n",
              "      <td>-122.319</td>\n",
              "      <td>1690</td>\n",
              "      <td>7639</td>\n",
              "    </tr>\n",
              "    <tr>\n",
              "      <th>2</th>\n",
              "      <td>5631500400</td>\n",
              "      <td>20150225T000000</td>\n",
              "      <td>180000.0</td>\n",
              "      <td>2</td>\n",
              "      <td>1.00</td>\n",
              "      <td>770</td>\n",
              "      <td>10000</td>\n",
              "      <td>1.0</td>\n",
              "      <td>0</td>\n",
              "      <td>0</td>\n",
              "      <td>...</td>\n",
              "      <td>6</td>\n",
              "      <td>770</td>\n",
              "      <td>0</td>\n",
              "      <td>1933</td>\n",
              "      <td>0</td>\n",
              "      <td>98028</td>\n",
              "      <td>47.7379</td>\n",
              "      <td>-122.233</td>\n",
              "      <td>2720</td>\n",
              "      <td>8062</td>\n",
              "    </tr>\n",
              "    <tr>\n",
              "      <th>3</th>\n",
              "      <td>2487200875</td>\n",
              "      <td>20141209T000000</td>\n",
              "      <td>604000.0</td>\n",
              "      <td>4</td>\n",
              "      <td>3.00</td>\n",
              "      <td>1960</td>\n",
              "      <td>5000</td>\n",
              "      <td>1.0</td>\n",
              "      <td>0</td>\n",
              "      <td>0</td>\n",
              "      <td>...</td>\n",
              "      <td>7</td>\n",
              "      <td>1050</td>\n",
              "      <td>910</td>\n",
              "      <td>1965</td>\n",
              "      <td>0</td>\n",
              "      <td>98136</td>\n",
              "      <td>47.5208</td>\n",
              "      <td>-122.393</td>\n",
              "      <td>1360</td>\n",
              "      <td>5000</td>\n",
              "    </tr>\n",
              "    <tr>\n",
              "      <th>4</th>\n",
              "      <td>1954400510</td>\n",
              "      <td>20150218T000000</td>\n",
              "      <td>510000.0</td>\n",
              "      <td>3</td>\n",
              "      <td>2.00</td>\n",
              "      <td>1680</td>\n",
              "      <td>8080</td>\n",
              "      <td>1.0</td>\n",
              "      <td>0</td>\n",
              "      <td>0</td>\n",
              "      <td>...</td>\n",
              "      <td>8</td>\n",
              "      <td>1680</td>\n",
              "      <td>0</td>\n",
              "      <td>1987</td>\n",
              "      <td>0</td>\n",
              "      <td>98074</td>\n",
              "      <td>47.6168</td>\n",
              "      <td>-122.045</td>\n",
              "      <td>1800</td>\n",
              "      <td>7503</td>\n",
              "    </tr>\n",
              "  </tbody>\n",
              "</table>\n",
              "<p>5 rows × 21 columns</p>\n",
              "</div>\n",
              "    <div class=\"colab-df-buttons\">\n",
              "\n",
              "  <div class=\"colab-df-container\">\n",
              "    <button class=\"colab-df-convert\" onclick=\"convertToInteractive('df-5b4e3f3e-e9eb-4692-a659-b26a10d87236')\"\n",
              "            title=\"Convert this dataframe to an interactive table.\"\n",
              "            style=\"display:none;\">\n",
              "\n",
              "  <svg xmlns=\"http://www.w3.org/2000/svg\" height=\"24px\" viewBox=\"0 -960 960 960\">\n",
              "    <path d=\"M120-120v-720h720v720H120Zm60-500h600v-160H180v160Zm220 220h160v-160H400v160Zm0 220h160v-160H400v160ZM180-400h160v-160H180v160Zm440 0h160v-160H620v160ZM180-180h160v-160H180v160Zm440 0h160v-160H620v160Z\"/>\n",
              "  </svg>\n",
              "    </button>\n",
              "\n",
              "  <style>\n",
              "    .colab-df-container {\n",
              "      display:flex;\n",
              "      gap: 12px;\n",
              "    }\n",
              "\n",
              "    .colab-df-convert {\n",
              "      background-color: #E8F0FE;\n",
              "      border: none;\n",
              "      border-radius: 50%;\n",
              "      cursor: pointer;\n",
              "      display: none;\n",
              "      fill: #1967D2;\n",
              "      height: 32px;\n",
              "      padding: 0 0 0 0;\n",
              "      width: 32px;\n",
              "    }\n",
              "\n",
              "    .colab-df-convert:hover {\n",
              "      background-color: #E2EBFA;\n",
              "      box-shadow: 0px 1px 2px rgba(60, 64, 67, 0.3), 0px 1px 3px 1px rgba(60, 64, 67, 0.15);\n",
              "      fill: #174EA6;\n",
              "    }\n",
              "\n",
              "    .colab-df-buttons div {\n",
              "      margin-bottom: 4px;\n",
              "    }\n",
              "\n",
              "    [theme=dark] .colab-df-convert {\n",
              "      background-color: #3B4455;\n",
              "      fill: #D2E3FC;\n",
              "    }\n",
              "\n",
              "    [theme=dark] .colab-df-convert:hover {\n",
              "      background-color: #434B5C;\n",
              "      box-shadow: 0px 1px 3px 1px rgba(0, 0, 0, 0.15);\n",
              "      filter: drop-shadow(0px 1px 2px rgba(0, 0, 0, 0.3));\n",
              "      fill: #FFFFFF;\n",
              "    }\n",
              "  </style>\n",
              "\n",
              "    <script>\n",
              "      const buttonEl =\n",
              "        document.querySelector('#df-5b4e3f3e-e9eb-4692-a659-b26a10d87236 button.colab-df-convert');\n",
              "      buttonEl.style.display =\n",
              "        google.colab.kernel.accessAllowed ? 'block' : 'none';\n",
              "\n",
              "      async function convertToInteractive(key) {\n",
              "        const element = document.querySelector('#df-5b4e3f3e-e9eb-4692-a659-b26a10d87236');\n",
              "        const dataTable =\n",
              "          await google.colab.kernel.invokeFunction('convertToInteractive',\n",
              "                                                    [key], {});\n",
              "        if (!dataTable) return;\n",
              "\n",
              "        const docLinkHtml = 'Like what you see? Visit the ' +\n",
              "          '<a target=\"_blank\" href=https://colab.research.google.com/notebooks/data_table.ipynb>data table notebook</a>'\n",
              "          + ' to learn more about interactive tables.';\n",
              "        element.innerHTML = '';\n",
              "        dataTable['output_type'] = 'display_data';\n",
              "        await google.colab.output.renderOutput(dataTable, element);\n",
              "        const docLink = document.createElement('div');\n",
              "        docLink.innerHTML = docLinkHtml;\n",
              "        element.appendChild(docLink);\n",
              "      }\n",
              "    </script>\n",
              "  </div>\n",
              "\n",
              "\n",
              "    <div id=\"df-a2cdca59-08c2-4167-861a-d91886d0ed9f\">\n",
              "      <button class=\"colab-df-quickchart\" onclick=\"quickchart('df-a2cdca59-08c2-4167-861a-d91886d0ed9f')\"\n",
              "                title=\"Suggest charts\"\n",
              "                style=\"display:none;\">\n",
              "\n",
              "<svg xmlns=\"http://www.w3.org/2000/svg\" height=\"24px\"viewBox=\"0 0 24 24\"\n",
              "     width=\"24px\">\n",
              "    <g>\n",
              "        <path d=\"M19 3H5c-1.1 0-2 .9-2 2v14c0 1.1.9 2 2 2h14c1.1 0 2-.9 2-2V5c0-1.1-.9-2-2-2zM9 17H7v-7h2v7zm4 0h-2V7h2v10zm4 0h-2v-4h2v4z\"/>\n",
              "    </g>\n",
              "</svg>\n",
              "      </button>\n",
              "\n",
              "<style>\n",
              "  .colab-df-quickchart {\n",
              "      --bg-color: #E8F0FE;\n",
              "      --fill-color: #1967D2;\n",
              "      --hover-bg-color: #E2EBFA;\n",
              "      --hover-fill-color: #174EA6;\n",
              "      --disabled-fill-color: #AAA;\n",
              "      --disabled-bg-color: #DDD;\n",
              "  }\n",
              "\n",
              "  [theme=dark] .colab-df-quickchart {\n",
              "      --bg-color: #3B4455;\n",
              "      --fill-color: #D2E3FC;\n",
              "      --hover-bg-color: #434B5C;\n",
              "      --hover-fill-color: #FFFFFF;\n",
              "      --disabled-bg-color: #3B4455;\n",
              "      --disabled-fill-color: #666;\n",
              "  }\n",
              "\n",
              "  .colab-df-quickchart {\n",
              "    background-color: var(--bg-color);\n",
              "    border: none;\n",
              "    border-radius: 50%;\n",
              "    cursor: pointer;\n",
              "    display: none;\n",
              "    fill: var(--fill-color);\n",
              "    height: 32px;\n",
              "    padding: 0;\n",
              "    width: 32px;\n",
              "  }\n",
              "\n",
              "  .colab-df-quickchart:hover {\n",
              "    background-color: var(--hover-bg-color);\n",
              "    box-shadow: 0 1px 2px rgba(60, 64, 67, 0.3), 0 1px 3px 1px rgba(60, 64, 67, 0.15);\n",
              "    fill: var(--button-hover-fill-color);\n",
              "  }\n",
              "\n",
              "  .colab-df-quickchart-complete:disabled,\n",
              "  .colab-df-quickchart-complete:disabled:hover {\n",
              "    background-color: var(--disabled-bg-color);\n",
              "    fill: var(--disabled-fill-color);\n",
              "    box-shadow: none;\n",
              "  }\n",
              "\n",
              "  .colab-df-spinner {\n",
              "    border: 2px solid var(--fill-color);\n",
              "    border-color: transparent;\n",
              "    border-bottom-color: var(--fill-color);\n",
              "    animation:\n",
              "      spin 1s steps(1) infinite;\n",
              "  }\n",
              "\n",
              "  @keyframes spin {\n",
              "    0% {\n",
              "      border-color: transparent;\n",
              "      border-bottom-color: var(--fill-color);\n",
              "      border-left-color: var(--fill-color);\n",
              "    }\n",
              "    20% {\n",
              "      border-color: transparent;\n",
              "      border-left-color: var(--fill-color);\n",
              "      border-top-color: var(--fill-color);\n",
              "    }\n",
              "    30% {\n",
              "      border-color: transparent;\n",
              "      border-left-color: var(--fill-color);\n",
              "      border-top-color: var(--fill-color);\n",
              "      border-right-color: var(--fill-color);\n",
              "    }\n",
              "    40% {\n",
              "      border-color: transparent;\n",
              "      border-right-color: var(--fill-color);\n",
              "      border-top-color: var(--fill-color);\n",
              "    }\n",
              "    60% {\n",
              "      border-color: transparent;\n",
              "      border-right-color: var(--fill-color);\n",
              "    }\n",
              "    80% {\n",
              "      border-color: transparent;\n",
              "      border-right-color: var(--fill-color);\n",
              "      border-bottom-color: var(--fill-color);\n",
              "    }\n",
              "    90% {\n",
              "      border-color: transparent;\n",
              "      border-bottom-color: var(--fill-color);\n",
              "    }\n",
              "  }\n",
              "</style>\n",
              "\n",
              "      <script>\n",
              "        async function quickchart(key) {\n",
              "          const quickchartButtonEl =\n",
              "            document.querySelector('#' + key + ' button');\n",
              "          quickchartButtonEl.disabled = true;  // To prevent multiple clicks.\n",
              "          quickchartButtonEl.classList.add('colab-df-spinner');\n",
              "          try {\n",
              "            const charts = await google.colab.kernel.invokeFunction(\n",
              "                'suggestCharts', [key], {});\n",
              "          } catch (error) {\n",
              "            console.error('Error during call to suggestCharts:', error);\n",
              "          }\n",
              "          quickchartButtonEl.classList.remove('colab-df-spinner');\n",
              "          quickchartButtonEl.classList.add('colab-df-quickchart-complete');\n",
              "        }\n",
              "        (() => {\n",
              "          let quickchartButtonEl =\n",
              "            document.querySelector('#df-a2cdca59-08c2-4167-861a-d91886d0ed9f button');\n",
              "          quickchartButtonEl.style.display =\n",
              "            google.colab.kernel.accessAllowed ? 'block' : 'none';\n",
              "        })();\n",
              "      </script>\n",
              "    </div>\n",
              "\n",
              "    </div>\n",
              "  </div>\n"
            ],
            "application/vnd.google.colaboratory.intrinsic+json": {
              "type": "dataframe",
              "variable_name": "HouseData"
            }
          },
          "metadata": {},
          "execution_count": 33
        }
      ],
      "source": [
        "#import pandas as pd\n",
        "HouseData = pd.read_csv(\"https://raw.githubusercontent.com/OpenActTextDev/ActuarialRegression/refs/heads/main/CourseCSVData/kc_house_data.csv\")\n",
        "HouseData.head() # check the data"
      ]
    },
    {
      "cell_type": "markdown",
      "metadata": {
        "id": "q4QjFVWo6sB4"
      },
      "source": [
        "Let us look at the target (dependent) variable."
      ]
    },
    {
      "cell_type": "code",
      "execution_count": null,
      "metadata": {
        "colab": {
          "base_uri": "https://localhost:8080/",
          "height": 628
        },
        "id": "3Bp4DRXGZIYk",
        "outputId": "c592784b-e68f-49b7-9233-39a1420c9434"
      },
      "outputs": [
        {
          "output_type": "display_data",
          "data": {
            "text/plain": [
              "<Figure size 640x480 with 1 Axes>"
            ],
            "image/png": "[encoded data removed]"
          },
          "metadata": {}
        },
        {
          "output_type": "stream",
          "name": "stdout",
          "text": [
            "count    21613.000000\n",
            "mean       540.088142\n",
            "std        367.127196\n",
            "min         75.000000\n",
            "25%        321.950000\n",
            "50%        450.000000\n",
            "75%        645.000000\n",
            "max       7700.000000\n",
            "Name: price, dtype: float64\n"
          ]
        }
      ],
      "source": [
        "# Define target, sales in thousands\n",
        "y = HouseData['price']/1000\n",
        "\n",
        "# Plot histogram\n",
        "#import matplotlib.pyplot as plt\n",
        "plt.hist(y, bins=30, edgecolor=\"black\")\n",
        "plt.xlabel(\"House Prices\")\n",
        "plt.ylabel(\"Frequency\")\n",
        "plt.title(\"Histogram of House Prices\")\n",
        "plt.show()\n",
        "print(y.describe())\n",
        "\n"
      ]
    },
    {
      "cell_type": "markdown",
      "metadata": {
        "id": "-YZF8ZlL6yap"
      },
      "source": [
        "Now, for the features (covariates)."
      ]
    },
    {
      "cell_type": "code",
      "execution_count": null,
      "metadata": {
        "colab": {
          "base_uri": "https://localhost:8080/"
        },
        "id": "ihipRS8P5v_0",
        "outputId": "e8bd5f06-e254-4063-e636-d00357de638a"
      },
      "outputs": [
        {
          "output_type": "stream",
          "name": "stdout",
          "text": [
            "           bedrooms     bathrooms   sqft_living      sqft_lot        floors  \\\n",
            "count  21613.000000  21613.000000  21613.000000  2.161300e+04  21613.000000   \n",
            "mean       3.370842      2.114757   2079.899736  1.510697e+04      1.494309   \n",
            "std        0.930062      0.770163    918.440897  4.142051e+04      0.539989   \n",
            "min        0.000000      0.000000    290.000000  5.200000e+02      1.000000   \n",
            "25%        3.000000      1.750000   1427.000000  5.040000e+03      1.000000   \n",
            "50%        3.000000      2.250000   1910.000000  7.618000e+03      1.500000   \n",
            "75%        4.000000      2.500000   2550.000000  1.068800e+04      2.000000   \n",
            "max       33.000000      8.000000  13540.000000  1.651359e+06      3.500000   \n",
            "\n",
            "         waterfront          view     condition         grade    sqft_above  \\\n",
            "count  21613.000000  21613.000000  21613.000000  21613.000000  21613.000000   \n",
            "mean       0.007542      0.234303      3.409430      7.656873   1788.390691   \n",
            "std        0.086517      0.766318      0.650743      1.175459    828.090978   \n",
            "min        0.000000      0.000000      1.000000      1.000000    290.000000   \n",
            "25%        0.000000      0.000000      3.000000      7.000000   1190.000000   \n",
            "50%        0.000000      0.000000      3.000000      7.000000   1560.000000   \n",
            "75%        0.000000      0.000000      4.000000      8.000000   2210.000000   \n",
            "max        1.000000      4.000000      5.000000     13.000000   9410.000000   \n",
            "\n",
            "       sqft_basement      yr_built  yr_renovated       zipcode           lat  \\\n",
            "count   21613.000000  21613.000000  21613.000000  21613.000000  21613.000000   \n",
            "mean      291.509045   1971.005136     84.402258  98077.939805     47.560053   \n",
            "std       442.575043     29.373411    401.679240     53.505026      0.138564   \n",
            "min         0.000000   1900.000000      0.000000  98001.000000     47.155900   \n",
            "25%         0.000000   1951.000000      0.000000  98033.000000     47.471000   \n",
            "50%         0.000000   1975.000000      0.000000  98065.000000     47.571800   \n",
            "75%       560.000000   1997.000000      0.000000  98118.000000     47.678000   \n",
            "max      4820.000000   2015.000000   2015.000000  98199.000000     47.777600   \n",
            "\n",
            "               long  sqft_living15     sqft_lot15  \n",
            "count  21613.000000   21613.000000   21613.000000  \n",
            "mean    -122.213896    1986.552492   12768.455652  \n",
            "std        0.140828     685.391304   27304.179631  \n",
            "min     -122.519000     399.000000     651.000000  \n",
            "25%     -122.328000    1490.000000    5100.000000  \n",
            "50%     -122.230000    1840.000000    7620.000000  \n",
            "75%     -122.125000    2360.000000   10083.000000  \n",
            "max     -121.315000    6210.000000  871200.000000  \n"
          ]
        }
      ],
      "source": [
        "# Define features (drop target + non-predictors like id, date)\n",
        "X = HouseData.drop(columns=['price', 'id', 'date'])\n",
        "print(X.describe())\n"
      ]
    },
    {
      "cell_type": "markdown",
      "metadata": {
        "id": "nfKbGylCzFcw"
      },
      "source": [
        "We might be interested in geo-spatial features of the data."
      ]
    },
    {
      "cell_type": "code",
      "execution_count": null,
      "metadata": {
        "colab": {
          "base_uri": "https://localhost:8080/",
          "height": 431
        },
        "id": "olF47oH6zItu",
        "outputId": "dc06edc7-5f86-4053-93ed-fbffbf001ea0"
      },
      "outputs": [
        {
          "output_type": "display_data",
          "data": {
            "text/plain": [
              "<Figure size 640x480 with 1 Axes>"
            ],
            "image/png": "[encoded data removed]"
          },
          "metadata": {}
        }
      ],
      "source": [
        "plt.scatter(X[\"long\"], X[\"lat\"], s=5);"
      ]
    },
    {
      "cell_type": "markdown",
      "metadata": {
        "id": "8v35i76Fq1sZ"
      },
      "source": [
        "Here is how one can split the data into training, validation, and testing sub-samples."
      ]
    },
    {
      "cell_type": "code",
      "execution_count": null,
      "metadata": {
        "id": "jRJj-1ABcTI0"
      },
      "outputs": [],
      "source": [
        "#from sklearn.model_selection import train_test_split\n",
        "# Thanks https://datascience.stackexchange.com/a/15136\n",
        "X_main, X_test, y_main, y_test = train_test_split(\n",
        "    X, y, test_size=0.2, random_state=1\n",
        ")\n",
        "\n",
        "# As 0.25 x 0.8 = 0.2\n",
        "X_train, X_val, y_train, y_val = train_test_split(\n",
        "    X_main, y_main, test_size=0.25, random_state=1\n",
        ")\n"
      ]
    },
    {
      "cell_type": "markdown",
      "metadata": {
        "id": "DJYSCCtzWNIn"
      },
      "source": [
        "For presentation purposes, we use the simpler training and testing splits."
      ]
    },
    {
      "cell_type": "code",
      "execution_count": null,
      "metadata": {
        "colab": {
          "base_uri": "https://localhost:8080/"
        },
        "id": "uZvkmSRNqtZw",
        "outputId": "bb80356c-704f-4fab-f9bd-7211a648d6a8"
      },
      "outputs": [
        {
          "output_type": "execute_result",
          "data": {
            "text/plain": [
              "((16209, 18), (5404, 18), (16209,), (5404,))"
            ]
          },
          "metadata": {},
          "execution_count": 38
        }
      ],
      "source": [
        "#from sklearn.model_selection import train_test_split\n",
        "X_train, X_test, y_train, y_test = train_test_split(\n",
        "    X, y, random_state=42\n",
        ")\n",
        "X_train.shape, X_test.shape, y_train.shape, y_test.shape"
      ]
    },
    {
      "cell_type": "markdown",
      "metadata": {
        "id": "QV15CntDsJYc"
      },
      "source": [
        "# Regression Models"
      ]
    },
    {
      "cell_type": "code",
      "execution_count": null,
      "metadata": {
        "colab": {
          "base_uri": "https://localhost:8080/"
        },
        "id": "huENSecWsRE_",
        "outputId": "e45bb047-3e0b-4cea-f7e4-6a9fc8bb1f55"
      },
      "outputs": [
        {
          "output_type": "stream",
          "name": "stdout",
          "text": [
            "          Feature  Coefficient\n",
            "0       Intercept  6690.324603\n",
            "1        bedrooms   -35.766541\n",
            "2       bathrooms    41.144279\n",
            "3     sqft_living     0.110443\n",
            "4        sqft_lot     0.000129\n",
            "5          floors     6.689550\n",
            "6      waterfront   582.960458\n",
            "7            view    52.870942\n",
            "8       condition    26.385649\n",
            "9           grade    95.890445\n",
            "10     sqft_above     0.070785\n",
            "11  sqft_basement     0.039658\n",
            "12       yr_built    -2.620223\n",
            "13   yr_renovated     0.019813\n",
            "14        zipcode    -0.582420\n",
            "15            lat   602.748226\n",
            "16           long  -214.729828\n",
            "17  sqft_living15     0.021681\n",
            "18     sqft_lot15    -0.000383\n"
          ]
        }
      ],
      "source": [
        "#from sklearn.linear_model import LinearRegression\n",
        "model = LinearRegression()\n",
        "model.fit(X, y)\n",
        "# Create summary table\n",
        "summary_df = pd.DataFrame({\n",
        "    \"Feature\": [\"Intercept\"] + list(X.columns),\n",
        "    \"Coefficient\": [model.intercept_] + list(model.coef_)\n",
        "})\n",
        "\n",
        "print(summary_df)"
      ]
    },
    {
      "cell_type": "markdown",
      "metadata": {
        "id": "HL0cuX9870oU"
      },
      "source": [
        "For consistency with other analyses, let us drop a few of the variables and show another way to fit the regression model."
      ]
    },
    {
      "cell_type": "code",
      "execution_count": null,
      "metadata": {
        "colab": {
          "base_uri": "https://localhost:8080/"
        },
        "id": "up8uNZiMswN6",
        "outputId": "6bc814fc-7a12-4d49-ee75-c57630e5d345"
      },
      "outputs": [
        {
          "output_type": "stream",
          "name": "stdout",
          "text": [
            "                            OLS Regression Results                            \n",
            "==============================================================================\n",
            "Dep. Variable:                  price   R-squared:                       0.583\n",
            "Model:                            OLS   Adj. R-squared:                  0.583\n",
            "Method:                 Least Squares   F-statistic:                     2517.\n",
            "Date:                Wed, 11 Jun 2025   Prob (F-statistic):               0.00\n",
            "Time:                        14:00:35   Log-Likelihood:            -1.1133e+05\n",
            "No. Observations:               16209   AIC:                         2.227e+05\n",
            "Df Residuals:                   16199   BIC:                         2.228e+05\n",
            "Df Model:                           9                                         \n",
            "Covariance Type:            nonrobust                                         \n",
            "================================================================================\n",
            "                   coef    std err          t      P>|t|      [0.025      0.975]\n",
            "--------------------------------------------------------------------------------\n",
            "const         6235.6063    159.012     39.215      0.000    5923.926    6547.287\n",
            "bedrooms       -60.2963      2.456    -24.546      0.000     -65.111     -55.481\n",
            "bathrooms       68.3541      4.334     15.772      0.000      59.859      76.849\n",
            "sqft_living      0.2767      0.005     51.660      0.000       0.266       0.287\n",
            "sqft_lot        -0.0003   4.84e-05     -7.151      0.000      -0.000      -0.000\n",
            "floors          46.4164      4.590     10.113      0.000      37.420      55.413\n",
            "waterfront     692.1248     22.252     31.104      0.000     648.508     735.741\n",
            "sqft_above       0.0169      0.005      3.116      0.002       0.006       0.027\n",
            "yr_built        -3.2030      0.082    -38.869      0.000      -3.365      -3.042\n",
            "yr_renovated     0.0132      0.005      2.722      0.006       0.004       0.023\n",
            "==============================================================================\n",
            "Omnibus:                     9749.199   Durbin-Watson:                   2.029\n",
            "Prob(Omnibus):                  0.000   Jarque-Bera (JB):           339275.786\n",
            "Skew:                           2.327   Prob(JB):                         0.00\n",
            "Kurtosis:                      24.925   Cond. No.                     3.62e+06\n",
            "==============================================================================\n",
            "\n",
            "Notes:\n",
            "[1] Standard Errors assume that the covariance matrix of the errors is correctly specified.\n",
            "[2] The condition number is large, 3.62e+06. This might indicate that there are\n",
            "strong multicollinearity or other numerical problems.\n"
          ]
        }
      ],
      "source": [
        "#  A shorter version of the features matrix\n",
        "XTrainShort = X_train.drop(columns=['zipcode','lat', 'long', 'sqft_living15',\n",
        "                               'sqft_lot15', 'sqft_basement','view', 'condition','grade'])\n",
        "XTrainShortInt = sm.add_constant(XTrainShort)  # adds intercept term\n",
        "\n",
        "#import statsmodels.api as sm\n",
        "#from sklearn.metrics import r2_score\n",
        "model = sm.OLS(y_train, XTrainShortInt).fit()\n",
        "print(model.summary())"
      ]
    },
    {
      "cell_type": "markdown",
      "metadata": {
        "id": "waeC9m3L91PN"
      },
      "source": [
        "Another way to do the regression."
      ]
    },
    {
      "cell_type": "code",
      "execution_count": null,
      "metadata": {
        "colab": {
          "base_uri": "https://localhost:8080/"
        },
        "id": "bdWbCjw00JNT",
        "outputId": "ee8f931a-906c-4484-d871-e11e738de596"
      },
      "outputs": [
        {
          "output_type": "stream",
          "name": "stdout",
          "text": [
            "[ 0.00000000e+00 -6.02962627e+01  6.83540894e+01  2.76741207e-01\n",
            " -3.46251883e-04  4.64163644e+01  6.92124831e+02  1.68531128e-02\n",
            " -3.20304110e+00  1.31971195e-02]\n"
          ]
        }
      ],
      "source": [
        "lr = LinearRegression()\n",
        "lr.fit(XTrainShortInt, y_train)\n",
        "print(lr.coef_)"
      ]
    },
    {
      "cell_type": "markdown",
      "metadata": {
        "id": "JfRpWVCH9QR6"
      },
      "source": [
        "Now, create a vectors of predictions; one for the training set, one for the test set. Then, compare the training set predictions to actual target outcomes."
      ]
    },
    {
      "cell_type": "code",
      "execution_count": null,
      "metadata": {
        "colab": {
          "base_uri": "https://localhost:8080/",
          "height": 472
        },
        "id": "GVdrhT1q0lzd",
        "outputId": "db7dc699-1003-4723-ca14-f84bdba26d64"
      },
      "outputs": [
        {
          "output_type": "display_data",
          "data": {
            "text/plain": [
              "<Figure size 640x480 with 1 Axes>"
            ],
            "image/png": "[encoded data removed]"
          },
          "metadata": {}
        }
      ],
      "source": [
        "ytrain_predict = lr.predict(XTrainShortInt)\n",
        "XTestShort = X_test.drop(columns=['zipcode','lat', 'long', 'sqft_living15',\n",
        "                               'sqft_lot15', 'sqft_basement','view', 'condition','grade'])\n",
        "XTestShortInt = sm.add_constant(XTestShort)  # adds intercept term\n",
        "ytest_predict = lr.predict(XTestShortInt)\n",
        "\n",
        "plt.scatter(ytrain_predict, y_train, s=5)\n",
        "plt.xlabel(\"Predictions\")\n",
        "plt.ylabel(\"True values\")\n",
        "plt.title(\"Training set\");\n"
      ]
    },
    {
      "cell_type": "markdown",
      "metadata": {
        "id": "vPbxqJCV9mSo"
      },
      "source": [
        "Compare the test set predictions to actual target outcomes."
      ]
    },
    {
      "cell_type": "code",
      "execution_count": null,
      "metadata": {
        "colab": {
          "base_uri": "https://localhost:8080/",
          "height": 472
        },
        "id": "Xc-KlIMm3bPG",
        "outputId": "4233788a-71c3-4ee0-c5f8-044ee9b932fa"
      },
      "outputs": [
        {
          "output_type": "display_data",
          "data": {
            "text/plain": [
              "<Figure size 640x480 with 1 Axes>"
            ],
            "image/png": "[encoded data removed]"
          },
          "metadata": {}
        }
      ],
      "source": [
        "plt.scatter(ytest_predict, y_test, s=5)\n",
        "plt.xlabel(\"Predictions\")\n",
        "plt.ylabel(\"True values\")\n",
        "plt.title(\"Validation set\");"
      ]
    },
    {
      "cell_type": "markdown",
      "metadata": {
        "id": "fBLVMmBg-MlT"
      },
      "source": [
        "Now let us compare predictions to actuals for both the training and test sets. Take the square root of the mse (mean squared error) so the units are in dollars (not squared dollars)."
      ]
    },
    {
      "cell_type": "code",
      "execution_count": null,
      "metadata": {
        "colab": {
          "base_uri": "https://localhost:8080/"
        },
        "id": "Uqst-wiE_jGq",
        "outputId": "c7590cfb-fb34-4bf3-e2ab-b1b464ed110c"
      },
      "outputs": [
        {
          "output_type": "stream",
          "name": "stdout",
          "text": [
            "232.65580118752024\n",
            "246.84386800716536\n"
          ]
        }
      ],
      "source": [
        "#from sklearn.metrics import mean_squared_error as mse\n",
        "print(np.sqrt(mse(ytrain_predict, y_train)))\n",
        "print(np.sqrt(mse(ytest_predict, y_test)))\n"
      ]
    },
    {
      "cell_type": "markdown",
      "metadata": {
        "id": "y-SaP8YS-gYN"
      },
      "source": [
        "As anticipated, the fit is better for the training than the test set."
      ]
    },
    {
      "cell_type": "markdown",
      "metadata": {
        "id": "lUJxRiTFvXIp"
      },
      "source": [
        "#  Neural Nets"
      ]
    },
    {
      "cell_type": "markdown",
      "metadata": {
        "id": "RJRD9flzLtXa"
      },
      "source": [
        "We can start by specifying the model and taking a look at a summary of it.\n",
        "\n",
        "This code mimics [Laub's First Keras Model](https://laub.au/DeepLearningForActuaries/Tabular-Data/deep-learning-keras.html#our-first-neural-network) (although with a different data set)."
      ]
    },
    {
      "cell_type": "code",
      "execution_count": null,
      "metadata": {
        "colab": {
          "base_uri": "https://localhost:8080/",
          "height": 198
        },
        "id": "_OiuY1HO5VQB",
        "outputId": "fbf00672-aae3-4845-eccc-1ab400c6eb64"
      },
      "outputs": [
        {
          "output_type": "display_data",
          "data": {
            "text/plain": [
              "\u001b[1mModel: \"sequential_6\"\u001b[0m\n"
            ],
            "text/html": [
              "<pre style=\"white-space:pre;overflow-x:auto;line-height:normal;font-family:Menlo,'DejaVu Sans Mono',consolas,'Courier New',monospace\"><span style=\"font-weight: bold\">Model: \"sequential_6\"</span>\n",
              "</pre>\n"
            ]
          },
          "metadata": {}
        },
        {
          "output_type": "display_data",
          "data": {
            "text/plain": [
              "┏━━━━━━━━━━━━━━━━━━━━━━━━━━━━━━━━━┳━━━━━━━━━━━━━━━━━━━━━━━━┳━━━━━━━━━━━━━━━┓\n",
              "┃\u001b[1m \u001b[0m\u001b[1mLayer (type)                   \u001b[0m\u001b[1m \u001b[0m┃\u001b[1m \u001b[0m\u001b[1mOutput Shape          \u001b[0m\u001b[1m \u001b[0m┃\u001b[1m \u001b[0m\u001b[1m      Param #\u001b[0m\u001b[1m \u001b[0m┃\n",
              "┡━━━━━━━━━━━━━━━━━━━━━━━━━━━━━━━━━╇━━━━━━━━━━━━━━━━━━━━━━━━╇━━━━━━━━━━━━━━━┩\n",
              "│ dense_16 (\u001b[38;5;33mDense\u001b[0m)                │ (\u001b[38;5;45mNone\u001b[0m, \u001b[38;5;34m30\u001b[0m)             │           \u001b[38;5;34m300\u001b[0m │\n",
              "├─────────────────────────────────┼────────────────────────┼───────────────┤\n",
              "│ dense_17 (\u001b[38;5;33mDense\u001b[0m)                │ (\u001b[38;5;45mNone\u001b[0m, \u001b[38;5;34m1\u001b[0m)              │            \u001b[38;5;34m31\u001b[0m │\n",
              "└─────────────────────────────────┴────────────────────────┴───────────────┘\n"
            ],
            "text/html": [
              "<pre style=\"white-space:pre;overflow-x:auto;line-height:normal;font-family:Menlo,'DejaVu Sans Mono',consolas,'Courier New',monospace\">┏━━━━━━━━━━━━━━━━━━━━━━━━━━━━━━━━━┳━━━━━━━━━━━━━━━━━━━━━━━━┳━━━━━━━━━━━━━━━┓\n",
              "┃<span style=\"font-weight: bold\"> Layer (type)                    </span>┃<span style=\"font-weight: bold\"> Output Shape           </span>┃<span style=\"font-weight: bold\">       Param # </span>┃\n",
              "┡━━━━━━━━━━━━━━━━━━━━━━━━━━━━━━━━━╇━━━━━━━━━━━━━━━━━━━━━━━━╇━━━━━━━━━━━━━━━┩\n",
              "│ dense_16 (<span style=\"color: #0087ff; text-decoration-color: #0087ff\">Dense</span>)                │ (<span style=\"color: #00d7ff; text-decoration-color: #00d7ff\">None</span>, <span style=\"color: #00af00; text-decoration-color: #00af00\">30</span>)             │           <span style=\"color: #00af00; text-decoration-color: #00af00\">300</span> │\n",
              "├─────────────────────────────────┼────────────────────────┼───────────────┤\n",
              "│ dense_17 (<span style=\"color: #0087ff; text-decoration-color: #0087ff\">Dense</span>)                │ (<span style=\"color: #00d7ff; text-decoration-color: #00d7ff\">None</span>, <span style=\"color: #00af00; text-decoration-color: #00af00\">1</span>)              │            <span style=\"color: #00af00; text-decoration-color: #00af00\">31</span> │\n",
              "└─────────────────────────────────┴────────────────────────┴───────────────┘\n",
              "</pre>\n"
            ]
          },
          "metadata": {}
        },
        {
          "output_type": "display_data",
          "data": {
            "text/plain": [
              "\u001b[1m Total params: \u001b[0m\u001b[38;5;34m331\u001b[0m (1.29 KB)\n"
            ],
            "text/html": [
              "<pre style=\"white-space:pre;overflow-x:auto;line-height:normal;font-family:Menlo,'DejaVu Sans Mono',consolas,'Courier New',monospace\"><span style=\"font-weight: bold\"> Total params: </span><span style=\"color: #00af00; text-decoration-color: #00af00\">331</span> (1.29 KB)\n",
              "</pre>\n"
            ]
          },
          "metadata": {}
        },
        {
          "output_type": "display_data",
          "data": {
            "text/plain": [
              "\u001b[1m Trainable params: \u001b[0m\u001b[38;5;34m331\u001b[0m (1.29 KB)\n"
            ],
            "text/html": [
              "<pre style=\"white-space:pre;overflow-x:auto;line-height:normal;font-family:Menlo,'DejaVu Sans Mono',consolas,'Courier New',monospace\"><span style=\"font-weight: bold\"> Trainable params: </span><span style=\"color: #00af00; text-decoration-color: #00af00\">331</span> (1.29 KB)\n",
              "</pre>\n"
            ]
          },
          "metadata": {}
        },
        {
          "output_type": "display_data",
          "data": {
            "text/plain": [
              "\u001b[1m Non-trainable params: \u001b[0m\u001b[38;5;34m0\u001b[0m (0.00 B)\n"
            ],
            "text/html": [
              "<pre style=\"white-space:pre;overflow-x:auto;line-height:normal;font-family:Menlo,'DejaVu Sans Mono',consolas,'Courier New',monospace\"><span style=\"font-weight: bold\"> Non-trainable params: </span><span style=\"color: #00af00; text-decoration-color: #00af00\">0</span> (0.00 B)\n",
              "</pre>\n"
            ]
          },
          "metadata": {}
        }
      ],
      "source": [
        "#from keras.models import Sequential\n",
        "#from keras.layers import Dense, Input\n",
        "# import random\n",
        "\n",
        "random.seed(2025)\n",
        "model = Sequential(\n",
        "    [Input((9,)),\n",
        "     Dense(30, activation=\"leaky_relu\"),\n",
        "     Dense(1, activation=\"linear\")]\n",
        ")\n",
        "model.summary()"
      ]
    },
    {
      "cell_type": "markdown",
      "source": [
        "This neural network architecture includes one hidden layer with 30 neurons and an output layer with 1 neuron.\n",
        "\n",
        "*    While there is an activation function specified (`leaky_relu`) for the hidden layer, there is no activation function specified for the output layer.\n",
        "*    In situations where there is no specification, the output layer assumes a linear activation.\n",
        "\n",
        "We next **compile** the model. Compiling involves giving instructions on how we want the model to be trained.\n",
        "\n",
        "*   The optimizer (`adam`) explains how the model should learn (how the model should update the weights).\n",
        "*    The loss function (`mse` for mean squared error) states the objective that the model needs to optimize.\n",
        "\n",
        "We run the model through the entire dataset five times with the updated weights before the training completes. The `hist.history()` function returns the calculate mse at each step.\n",
        "\n",
        "*  The `%time` command computes and prints the amount of time spend on training.\n",
        "*  By setting `verbose=False` we can avoid printing of intermediate results during training.\n",
        "*  Setting `verbose=True` is useful when we want to observe how the neural network is training.\n",
        "\n"
      ],
      "metadata": {
        "id": "a7ZA9P0XZkQv"
      }
    },
    {
      "cell_type": "code",
      "execution_count": null,
      "metadata": {
        "colab": {
          "base_uri": "https://localhost:8080/"
        },
        "id": "ChKuECyv5sAk",
        "outputId": "7f3b6812-6a1a-41fb-a2b6-5a7abb5ba964"
      },
      "outputs": [
        {
          "output_type": "stream",
          "name": "stdout",
          "text": [
            "Epoch 1/5\n",
            "\u001b[1m507/507\u001b[0m \u001b[32m━━━━━━━━━━━━━━━━━━━━\u001b[0m\u001b[37m\u001b[0m \u001b[1m3s\u001b[0m 4ms/step - loss: 2146410.0000 - val_loss: 92311.3672\n",
            "Epoch 2/5\n",
            "\u001b[1m507/507\u001b[0m \u001b[32m━━━━━━━━━━━━━━━━━━━━\u001b[0m\u001b[37m\u001b[0m \u001b[1m1s\u001b[0m 3ms/step - loss: 83367.7734 - val_loss: 83580.3828\n",
            "Epoch 3/5\n",
            "\u001b[1m507/507\u001b[0m \u001b[32m━━━━━━━━━━━━━━━━━━━━\u001b[0m\u001b[37m\u001b[0m \u001b[1m3s\u001b[0m 3ms/step - loss: 86394.5156 - val_loss: 79214.1250\n",
            "Epoch 4/5\n",
            "\u001b[1m507/507\u001b[0m \u001b[32m━━━━━━━━━━━━━━━━━━━━\u001b[0m\u001b[37m\u001b[0m \u001b[1m3s\u001b[0m 3ms/step - loss: 71375.7500 - val_loss: 81067.5781\n",
            "Epoch 5/5\n",
            "\u001b[1m507/507\u001b[0m \u001b[32m━━━━━━━━━━━━━━━━━━━━\u001b[0m\u001b[37m\u001b[0m \u001b[1m2s\u001b[0m 3ms/step - loss: 265318.8750 - val_loss: 79399.5938\n",
            "CPU times: user 9.46 s, sys: 709 ms, total: 10.2 s\n",
            "Wall time: 11.4 s\n"
          ]
        }
      ],
      "source": [
        "\n",
        "model.compile(\"adam\", \"mse\")\n",
        "%time hist = model.fit(XTrainShort, y_train, epochs=5, validation_data=(XTestShort, y_test), verbose=True)"
      ]
    },
    {
      "cell_type": "markdown",
      "source": [
        "We can see the history of the square root of the mean square error."
      ],
      "metadata": {
        "id": "X7CLnCjcbAPa"
      }
    },
    {
      "cell_type": "code",
      "execution_count": null,
      "metadata": {
        "colab": {
          "base_uri": "https://localhost:8080/"
        },
        "id": "8ELIcOX4LCiD",
        "outputId": "67171304-5942-4044-d919-50fdb975c697"
      },
      "outputs": [
        {
          "output_type": "stream",
          "name": "stdout",
          "text": [
            "[785.25867553 288.96394942 316.00370844 273.01702671 466.56115623]\n"
          ]
        }
      ],
      "source": [
        "print(np.sqrt(hist.history[\"loss\"]))"
      ]
    },
    {
      "cell_type": "markdown",
      "source": [
        "Now, we re-run the model with a longer training period, setting the number of epochs to 150. We do not need to see the output at each stage and so set `verbose=False`."
      ],
      "metadata": {
        "id": "RjV3kdNcbS8V"
      }
    },
    {
      "cell_type": "code",
      "execution_count": null,
      "metadata": {
        "colab": {
          "base_uri": "https://localhost:8080/"
        },
        "id": "zxifcTtSREQ2",
        "outputId": "efacaf12-3606-4acc-b216-aaa33e80c0b8"
      },
      "outputs": [
        {
          "output_type": "stream",
          "name": "stdout",
          "text": [
            "CPU times: user 3min 51s, sys: 17.2 s, total: 4min 8s\n",
            "Wall time: 4min 52s\n"
          ]
        },
        {
          "output_type": "execute_result",
          "data": {
            "text/plain": [
              "[125973.1484375,\n",
              " 68223.34375,\n",
              " 81322.484375,\n",
              " 70770.890625,\n",
              " 113317.7421875,\n",
              " 63527.73046875,\n",
              " 71179.21875,\n",
              " 118481.84375,\n",
              " 67641.84375,\n",
              " 66881.5234375,\n",
              " 87446.421875,\n",
              " 74554.65625,\n",
              " 97944.703125,\n",
              " 311213.6875,\n",
              " 63567.66015625,\n",
              " 58505.4296875,\n",
              " 74772.6328125,\n",
              " 113842.890625,\n",
              " 69321.8359375,\n",
              " 63267.3203125,\n",
              " 92964.7109375,\n",
              " 64886.88671875,\n",
              " 83090.40625,\n",
              " 66182.0,\n",
              " 87675.9609375,\n",
              " 60957.71484375,\n",
              " 68045.2109375,\n",
              " 75466.703125,\n",
              " 247469.359375,\n",
              " 60366.55078125,\n",
              " 56065.328125,\n",
              " 56290.43359375,\n",
              " 58029.48828125,\n",
              " 56746.8984375,\n",
              " 63342.4453125,\n",
              " 69592.3828125,\n",
              " 67215.8203125,\n",
              " 197573.5,\n",
              " 55492.78125,\n",
              " 58306.09375,\n",
              " 59724.58984375,\n",
              " 130662.8125,\n",
              " 57092.65625,\n",
              " 115535.7890625,\n",
              " 56539.59375,\n",
              " 70710.7421875,\n",
              " 55670.51953125,\n",
              " 69524.8125,\n",
              " 56785.87890625,\n",
              " 62313.47265625,\n",
              " 265630.03125,\n",
              " 55700.26953125,\n",
              " 59510.0234375,\n",
              " 57189.390625,\n",
              " 74060.4296875,\n",
              " 61964.99609375,\n",
              " 56100.390625,\n",
              " 67444.109375,\n",
              " 83174.96875,\n",
              " 67331.90625,\n",
              " 77803.6796875,\n",
              " 63135.6640625,\n",
              " 95829.890625,\n",
              " 55312.30078125,\n",
              " 56690.38671875,\n",
              " 72428.625,\n",
              " 69674.2421875,\n",
              " 103657.6796875,\n",
              " 56862.8515625,\n",
              " 57143.43359375,\n",
              " 63050.91015625,\n",
              " 60556.43359375,\n",
              " 70010.140625,\n",
              " 71816.171875,\n",
              " 70739.71875,\n",
              " 55699.328125,\n",
              " 92636.4296875,\n",
              " 55501.51953125,\n",
              " 61985.87890625,\n",
              " 65938.75,\n",
              " 88156.921875,\n",
              " 61380.3828125,\n",
              " 55750.19921875,\n",
              " 56655.47265625,\n",
              " 58383.60546875,\n",
              " 71587.421875,\n",
              " 86947.390625,\n",
              " 60289.65625,\n",
              " 57466.6328125,\n",
              " 64357.3125,\n",
              " 198230.59375,\n",
              " 55995.24609375,\n",
              " 55462.20703125,\n",
              " 55481.03125,\n",
              " 55146.06640625,\n",
              " 75297.15625,\n",
              " 58549.26953125,\n",
              " 65378.390625,\n",
              " 55461.453125,\n",
              " 57183.81640625,\n",
              " 61169.51171875,\n",
              " 59844.4765625,\n",
              " 70405.34375,\n",
              " 63849.57421875,\n",
              " 68279.5859375,\n",
              " 61800.65234375,\n",
              " 61546.54296875,\n",
              " 67998.9921875,\n",
              " 59646.171875,\n",
              " 77257.0546875,\n",
              " 75950.7109375,\n",
              " 58063.625,\n",
              " 55760.9296875,\n",
              " 62277.47265625,\n",
              " 72283.5,\n",
              " 55337.9921875,\n",
              " 55780.8125,\n",
              " 57691.265625,\n",
              " 56074.3984375,\n",
              " 74775.0078125,\n",
              " 56039.015625,\n",
              " 64633.57421875,\n",
              " 55768.27734375,\n",
              " 59709.63671875,\n",
              " 58762.78125,\n",
              " 64429.421875,\n",
              " 60854.97265625,\n",
              " 56007.14453125,\n",
              " 95675.3828125,\n",
              " 58135.39453125,\n",
              " 57915.390625,\n",
              " 56746.30078125,\n",
              " 68747.3125,\n",
              " 56400.27734375,\n",
              " 56511.5546875,\n",
              " 56659.23046875,\n",
              " 60604.16796875,\n",
              " 58281.8671875,\n",
              " 60657.42578125,\n",
              " 54681.5234375,\n",
              " 57406.47265625,\n",
              " 63160.94921875,\n",
              " 66028.5,\n",
              " 55300.74609375,\n",
              " 75724.78125,\n",
              " 54578.25,\n",
              " 55235.08203125,\n",
              " 56645.30078125,\n",
              " 62666.5859375,\n",
              " 56087.63671875]"
            ]
          },
          "metadata": {},
          "execution_count": 48
        }
      ],
      "source": [
        "model.compile(\"adam\", \"mse\")\n",
        "%time hist = model.fit(XTrainShort, y_train, epochs=150, validation_data=(XTestShort, y_test), verbose=False)\n",
        "hist.history[\"loss\"]"
      ]
    },
    {
      "cell_type": "code",
      "execution_count": null,
      "metadata": {
        "colab": {
          "base_uri": "https://localhost:8080/",
          "height": 449
        },
        "id": "JNCBr1nS5OlO",
        "outputId": "3c5083bf-219b-4998-e9d9-27b4f6123afb"
      },
      "outputs": [
        {
          "output_type": "display_data",
          "data": {
            "text/plain": [
              "<Figure size 640x480 with 1 Axes>"
            ],
            "image/png": "[encoded data removed]"
          },
          "metadata": {}
        }
      ],
      "source": [
        "plt.plot(range(5, 151), hist.history[\"loss\"][4:])\n",
        "plt.plot(range(5, 151), hist.history[\"val_loss\"][4:])\n",
        "\n",
        "plt.legend([\"Training\", \"Validation\"])\n",
        "plt.xlabel(\"Epoch\")\n",
        "plt.ylabel(\"MSE\");"
      ]
    },
    {
      "cell_type": "code",
      "execution_count": null,
      "metadata": {
        "colab": {
          "base_uri": "https://localhost:8080/"
        },
        "id": "L9Xcir5AA1oi",
        "outputId": "136fb4ff-282c-4a24-f3e7-d3ca0b2283ed"
      },
      "outputs": [
        {
          "output_type": "stream",
          "name": "stdout",
          "text": [
            "                  0\n",
            "count  16209.000000\n",
            "mean     543.028625\n",
            "std      282.728302\n",
            "min     -846.085327\n",
            "25%      388.217041\n",
            "50%      475.091309\n",
            "75%      588.810730\n",
            "max     5778.640137\n"
          ]
        }
      ],
      "source": [
        "yNNtrain_predict= model.predict(XTrainShort, verbose=0)\n",
        "print(pd.DataFrame(yNNtrain_predict) .describe())\n"
      ]
    },
    {
      "cell_type": "code",
      "execution_count": null,
      "metadata": {
        "colab": {
          "base_uri": "https://localhost:8080/"
        },
        "id": "jL37FnX-B4sp",
        "outputId": "112ec24e-b979-43e2-fb70-1a0399893387"
      },
      "outputs": [
        {
          "output_type": "stream",
          "name": "stdout",
          "text": [
            "234.11249846093276\n"
          ]
        }
      ],
      "source": [
        "#from sklearn.metrics import mean_squared_error as mse\n",
        "print(np.sqrt(mse(yNNtrain_predict, y_train)))"
      ]
    },
    {
      "cell_type": "code",
      "execution_count": null,
      "metadata": {
        "colab": {
          "base_uri": "https://localhost:8080/"
        },
        "id": "PkBd-jIZEjUx",
        "outputId": "726efef6-c723-43b4-9066-d8a5d507d5db"
      },
      "outputs": [
        {
          "output_type": "stream",
          "name": "stdout",
          "text": [
            "                 0\n",
            "count  5404.000000\n",
            "mean    550.705627\n",
            "std     301.773132\n",
            "min   -1127.499390\n",
            "25%     388.016136\n",
            "50%     476.246521\n",
            "75%     598.857117\n",
            "max    3851.204590\n",
            "252.24546670964932\n"
          ]
        }
      ],
      "source": [
        "yNNtest_predict= model.predict(XTestShort, verbose=0)\n",
        "\n",
        "print(pd.DataFrame(yNNtest_predict) .describe())\n",
        "print(np.sqrt(mse(yNNtest_predict, y_test)))\n"
      ]
    },
    {
      "cell_type": "markdown",
      "source": [
        "Recall in the basic regression fit that the training root mse was 232.6558 and the test root mse was\n",
        "246.8438. So, we need to do better!\n",
        "\n",
        "**Rescale the Features**\n",
        "\n",
        "Machine learning approaches like to have well behaved features. As part of our routine model fitting procedures, we will recale the features so that they are in the unit [0,1] range."
      ],
      "metadata": {
        "id": "HzyKkCGZfkWa"
      }
    },
    {
      "cell_type": "code",
      "execution_count": null,
      "metadata": {
        "colab": {
          "base_uri": "https://localhost:8080/"
        },
        "id": "kzkyCpNLd2dl",
        "outputId": "473d0c69-41df-4266-bd25-e3d16eb12726"
      },
      "outputs": [
        {
          "output_type": "stream",
          "name": "stdout",
          "text": [
            "                  0             1             2             3             4  \\\n",
            "count  1.620900e+04  1.620900e+04  1.620900e+04  1.620900e+04  1.620900e+04   \n",
            "mean   1.876194e-16 -6.926137e-17  5.874065e-17  8.109717e-18 -1.806056e-16   \n",
            "std    1.000031e+00  1.000031e+00  1.000031e+00  1.000031e+00  1.000031e+00   \n",
            "min   -3.608735e+00 -2.761375e+00 -1.966164e+00 -3.695520e-01 -9.186256e-01   \n",
            "25%   -3.941321e-01 -8.011497e-01 -7.092478e-01 -2.540579e-01 -9.186256e-01   \n",
            "50%   -3.941321e-01  1.789627e-01 -1.800198e-01 -1.872187e-01  2.158665e-03   \n",
            "75%    6.774021e-01  5.056668e-01  5.256175e-01 -1.091237e-01  9.229429e-01   \n",
            "max    3.175190e+01  7.693158e+00  1.099992e+01  2.961857e+01  3.685296e+00   \n",
            "\n",
            "                  5             6             7             8  \n",
            "count  1.620900e+04  1.620900e+04  1.620900e+04  1.620900e+04  \n",
            "mean  -4.734321e-17  1.393995e-16  3.186023e-15  3.506905e-18  \n",
            "std    1.000031e+00  1.000031e+00  1.000031e+00  1.000031e+00  \n",
            "min   -8.378769e-02 -1.818889e+00 -2.422486e+00 -2.079637e-01  \n",
            "25%   -8.378769e-02 -7.115571e-01 -6.520799e-01 -2.079637e-01  \n",
            "50%   -8.378769e-02 -2.734919e-01  1.309844e-01 -2.079637e-01  \n",
            "75%   -8.378769e-02  5.052907e-01  8.800023e-01 -2.079637e-01  \n",
            "max    1.193493e+01  8.609497e+00  1.492835e+00  4.856774e+00  \n"
          ]
        }
      ],
      "source": [
        "#from sklearn.preprocessing import StandardScaler, MinMaxScaler\n",
        "scaler = StandardScaler()\n",
        "scaler.fit(XTrainShort)\n",
        "\n",
        "XTrainShort_sc = scaler.transform(XTrainShort)\n",
        "XTestShort_sc  = scaler.transform(XTestShort)\n",
        "print(pd.DataFrame(XTrainShort_sc) .describe())"
      ]
    },
    {
      "cell_type": "code",
      "execution_count": null,
      "metadata": {
        "id": "q-h4IvsbGLMy"
      },
      "outputs": [],
      "source": [
        "random.seed(2025)\n",
        "model_sc = Sequential(\n",
        "    [Dense(30, activation=\"leaky_relu\"),\n",
        "     Dense(1, activation=\"linear\")]);\n"
      ]
    },
    {
      "cell_type": "code",
      "execution_count": null,
      "metadata": {
        "id": "IS8Owemieq30"
      },
      "outputs": [],
      "source": [
        "model_sc.compile(\"adam\", \"mse\")\n",
        "%time hist_sc = model_sc.fit(XTrainShort_sc, y_train, epochs=150, validation_data=(XTestShort_sc, y_test), verbose=False)\n"
      ]
    },
    {
      "cell_type": "code",
      "execution_count": null,
      "metadata": {
        "colab": {
          "base_uri": "https://localhost:8080/"
        },
        "id": "LUKAgdnbNEMg",
        "outputId": "21777945-c92d-40d4-a930-778c4591ca23"
      },
      "outputs": [
        {
          "output_type": "stream",
          "name": "stdout",
          "text": [
            "[640.89512598 602.64759603 528.51608301 441.72538132 364.66315793\n",
            " 310.28897821 277.98631374 261.5190152  253.41699208 248.30224306\n",
            " 244.3129237  240.86952673 238.08214017 235.89451595 234.16240358\n",
            " 232.75547959 231.66397911 230.74587787 230.04067235 229.43978138\n",
            " 228.94359977 228.52592338 228.0876853  227.75750365 227.40160991\n",
            " 227.08255829 226.80368197 226.50189707 226.20583996 225.90614409\n",
            " 225.58853583 225.35563907 225.05207731 224.81977157 224.5628566\n",
            " 224.3215988  224.14467635 223.91927954 223.70587903 223.48605242\n",
            " 223.28329469 223.13137246 222.92010025 222.78036234 222.62125383\n",
            " 222.45659689 222.30102585 222.146524   222.00307043 221.90605416\n",
            " 221.74671467 221.65455598 221.48076772 221.397682   221.291954\n",
            " 221.21837698 221.0731903  221.00069817 220.84301374 220.80353966\n",
            " 220.70250055 220.58585878 220.49903451 220.42735481 220.33191404\n",
            " 220.22263238 220.18029721 220.11625125 220.01108814 219.9431212\n",
            " 219.82868863 219.81427708 219.7046046  219.66670421 219.60024049\n",
            " 219.50102327 219.43664554 219.37674501 219.28527367 219.2467663\n",
            " 219.19077022 219.1112731  219.06603956 219.00364759 218.91955036\n",
            " 218.88983923 218.70851392 218.83746466 218.70602237 218.64159814\n",
            " 218.59876022 218.54845179 218.48757473 218.41957187 218.36539404\n",
            " 218.32213513 218.28786005 218.22461909 218.18860104 218.09621945\n",
            " 218.05384764 218.04563384 217.94516225 217.90262662 217.84219668\n",
            " 217.80859932 217.71905277 217.67526164 217.63371429 217.6172816\n",
            " 217.54631332 217.50429234 217.44393135 217.39933913 217.37544027\n",
            " 217.29527002 217.25071922 217.21372144 217.13764716 217.12329087\n",
            " 217.06213108 217.03851005 216.98859597 216.94755631 216.92008717\n",
            " 216.89421745 216.80837413 216.78793281 216.73756452 216.6995598\n",
            " 216.63510688 216.65714022 216.6020707  216.52530344 216.56560243\n",
            " 216.52273264 216.46625747 216.42662585 216.35580865 216.3375455\n",
            " 216.31547058 216.27513402 216.21181021 216.20138543 216.15668145\n",
            " 216.13903403 216.09065661 216.06981294 216.02019039 215.9882538 ]\n"
          ]
        }
      ],
      "source": [
        "print(np.sqrt(hist_sc.history[\"loss\"]))"
      ]
    },
    {
      "cell_type": "code",
      "execution_count": null,
      "metadata": {
        "colab": {
          "base_uri": "https://localhost:8080/",
          "height": 449
        },
        "id": "eePwhPwYfUqC",
        "outputId": "795e0441-4598-467f-9b64-449041c10842"
      },
      "outputs": [
        {
          "output_type": "display_data",
          "data": {
            "text/plain": [
              "<Figure size 640x480 with 1 Axes>"
            ],
            "image/png": "[encoded data removed]"
          },
          "metadata": {}
        }
      ],
      "source": [
        "plt.plot(range(3, 151), hist_sc.history[\"loss\"][2:])\n",
        "plt.plot(range(3, 151), hist_sc.history[\"val_loss\"][2:])\n",
        "\n",
        "plt.legend([\"Training\", \"Validation\"])\n",
        "plt.xlabel(\"Epoch\")\n",
        "plt.ylabel(\"MSE\");"
      ]
    },
    {
      "cell_type": "code",
      "execution_count": null,
      "metadata": {
        "colab": {
          "base_uri": "https://localhost:8080/"
        },
        "id": "EYOTeogzf35D",
        "outputId": "5cbfadf1-b888-4014-e071-d8233335a1b6"
      },
      "outputs": [
        {
          "output_type": "stream",
          "name": "stdout",
          "text": [
            "215.856354233517\n",
            "230.42445485354276\n"
          ]
        }
      ],
      "source": [
        "ysctrain_predict= model_sc.predict(XTrainShort_sc, verbose=0)\n",
        "ysctest_predict = model_sc.predict(XTestShort_sc, verbose=0)\n",
        "\n",
        "print(np.sqrt(mse(ysctrain_predict, y_train)))\n",
        "print(np.sqrt(mse(ysctest_predict, y_test)))"
      ]
    },
    {
      "cell_type": "markdown",
      "source": [
        "Much better. Now we have beat the standard regression model.\n",
        "\n",
        "Now, just to experiment a bit, here is a more complex multi-layered (2) model. We include dropout and early stopping."
      ],
      "metadata": {
        "id": "esskxkkRg2xM"
      }
    },
    {
      "cell_type": "code",
      "source": [
        "#from keras.models import Sequential\n",
        "#from keras.layers import Dense, Dropout, Input\n",
        "#from keras.callbacks import EarlyStopping\n",
        "\n",
        "random.seed(2025)\n",
        "# Define the model\n",
        "model_Drop = Sequential([\n",
        "    Input(shape=(9,)),  # 9 input features\n",
        "    Dense(64, activation='leaky_relu'),\n",
        "    Dropout(0.3),  # Drop 30% of neurons\n",
        "    Dense(30, activation='leaky_relu'),\n",
        "    Dropout(0.3),\n",
        "    Dense(1, activation='linear')  # for regression\n",
        "])\n",
        "\n",
        "# Compile the model\n",
        "model_Drop.compile(optimizer='adam', loss='mse', metrics=['mae'])\n",
        "\n",
        "# Add early stopping\n",
        "early_stop = EarlyStopping(\n",
        "    monitor='val_loss',     # what to monitor\n",
        "    patience=5,             # epochs to wait for improvement\n",
        "    restore_best_weights=True  # use best weights seen\n",
        ")\n",
        "\n",
        "# Train the model\n",
        "history_Drop = model_Drop.fit(\n",
        "    XTrainShort_sc, y_train,\n",
        "    validation_data=(XTestShort_sc, y_test),\n",
        "    epochs=150,\n",
        "    batch_size=32,\n",
        "    callbacks=[early_stop],\n",
        "    verbose=False\n",
        ")\n",
        "\n"
      ],
      "metadata": {
        "id": "cyMwjLSvRmmx"
      },
      "execution_count": null,
      "outputs": []
    },
    {
      "cell_type": "code",
      "source": [
        "print(np.sqrt(history_Drop.history[\"loss\"]))"
      ],
      "metadata": {
        "colab": {
          "base_uri": "https://localhost:8080/"
        },
        "id": "7ffwnyGoUeEq",
        "outputId": "08d69c03-26fb-42dc-de97-1b1be403d914"
      },
      "execution_count": null,
      "outputs": [
        {
          "output_type": "stream",
          "name": "stdout",
          "text": [
            "[503.53411938 272.67093263 254.9307504  250.71314691 248.43007851\n",
            " 247.79704397 244.94426184 245.00243143 242.250129   244.69072476\n",
            " 245.1864724  244.6793581  243.13114549 241.87540375 241.68130164\n",
            " 241.10376883 244.88073468 237.70706434 237.36190887 241.41656329\n",
            " 242.27712051 238.16179998 236.66659698 239.92765023 239.23428469\n",
            " 238.66209933 239.96092618 236.2455026  239.56411427 240.76241206\n",
            " 239.83524618 236.76576472 237.3922782  239.43730423 239.14073066\n",
            " 238.23686677 237.39653174]\n"
          ]
        }
      ]
    },
    {
      "cell_type": "code",
      "source": [
        "\n",
        "ysctrain_predict= model_Drop.predict(XTrainShort_sc, verbose=0)\n",
        "ysctest_predict = model_Drop.predict(XTestShort_sc, verbose=0)\n",
        "\n",
        "print(np.sqrt(mse(ysctrain_predict, y_train)))\n",
        "print(np.sqrt(mse(ysctest_predict, y_test)))\n",
        "\n"
      ],
      "metadata": {
        "colab": {
          "base_uri": "https://localhost:8080/"
        },
        "id": "biKTDQHgSGld",
        "outputId": "013e3327-a9c4-40c6-f374-7e6b6a20afc2"
      },
      "execution_count": null,
      "outputs": [
        {
          "output_type": "stream",
          "name": "stdout",
          "text": [
            "217.88519536635476\n",
            "232.42059072916578\n"
          ]
        }
      ]
    },
    {
      "cell_type": "markdown",
      "source": [
        "Not quite as good as the single layer model in terms of training and validation fit. However, at least it required on 37 epochs of training, due to early stopping...."
      ],
      "metadata": {
        "id": "UOyEo_rEZYBJ"
      }
    }
  ],
  "metadata": {
    "accelerator": "GPU",
    "colab": {
      "gpuType": "T4",
      "provenance": []
    },
    "kernelspec": {
      "display_name": "Python 3",
      "name": "python3"
    },
    "language_info": {
      "name": "python"
    }
  },
  "nbformat": 4,
  "nbformat_minor": 0
}